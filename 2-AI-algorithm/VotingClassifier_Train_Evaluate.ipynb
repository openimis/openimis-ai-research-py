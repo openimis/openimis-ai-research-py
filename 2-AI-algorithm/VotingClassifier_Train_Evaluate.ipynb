{
 "cells": [
  {
   "cell_type": "markdown",
   "metadata": {},
   "source": [
    "## Introduction\n",
    "\n",
    "The present function will train and evaluate the VotingClassifier based on the parameters given by the user:\n",
    "- Selected dataset, can be dataset1, dataset2, dataset3\n",
    "- Select label feature: 0 (binary), 1(multiclass)\n",
    "- Normalisation: 0 ('No'), 1 ('Yes')\n",
    "- Feature engineering: 0 (sel_features by user)\n",
    "- Evaluation metrics: precision & recall & f1 (and respectively macro and weighted)\n",
    "- Validation scheme: cross-validation with CVGridSearch and KFoldStratified\n",
    "- split_proportion: a value for the test proportion can be btw 0 and 1, usually 0.2"
   ]
  },
  {
   "cell_type": "code",
   "execution_count": 1,
   "metadata": {},
   "outputs": [],
   "source": [
    "# import modules\n",
    "\n",
    "import numpy as np\n",
    "import pandas as pd\n",
    "\n",
    "import gc\n",
    "\n",
    "import seaborn as sns\n",
    "import math\n",
    "import matplotlib as mpl\n",
    "from matplotlib.pylab import rcParams\n",
    "import matplotlib.pyplot as plt\n",
    "import plotly.express as px\n",
    "import plotly.graph_objects as go\n",
    "\n",
    "from sklearn.model_selection import train_test_split\n",
    "\n",
    "from sklearn.preprocessing import StandardScaler\n",
    "from sklearn.tree import DecisionTreeClassifier\n",
    "from sklearn.ensemble import RandomForestClassifier\n",
    "from sklearn.ensemble import VotingClassifier\n",
    "\n",
    "\n",
    "from sklearn.metrics import accuracy_score, average_precision_score,make_scorer\n",
    "from sklearn.metrics import precision_score, recall_score, f1_score, roc_auc_score\n",
    "from sklearn.metrics import confusion_matrix, classification_report\n",
    "\n",
    "from sklearn.model_selection import GridSearchCV, StratifiedKFold\n",
    "\n",
    "import time\n",
    "\n",
    "np.random.seed(2)\n",
    "\n",
    "%matplotlib inline\n",
    "\n",
    "import warnings\n",
    "warnings.filterwarnings('ignore')\n",
    "warnings.simplefilter('ignore')"
   ]
  },
  {
   "cell_type": "code",
   "execution_count": 2,
   "metadata": {},
   "outputs": [],
   "source": [
    "dataset = 2\n",
    "label_feature = 0\n",
    "norm_values = 1\n",
    "evaluation_metrics = ['f1_macro','f1_weighted',\\\n",
    "                      'precision_macro','precision_weighted',\\\n",
    "                      'recall_macro','recall','roc_auc']\n",
    "if dataset == 1:\n",
    "    indices_reasons = [0,5,6,7,8,9,10,11,15]\n",
    "elif dataset == 2:\n",
    "    indices_reasons = [0,3,4,5,6,7,8,9,10,11,15,20]\n",
    "elif dataset == 3:\n",
    "    indices_reasons = [-1,0,1,2,3,4,5,6,7,8,9,10,11,15,20]\n",
    "\n",
    "if label_feature == 0:\n",
    "    label_class = 'Class'\n",
    "    class_names = ['Accepted','Rejected']\n",
    "    scores = {'f1-macro': evaluation_metrics[0], \\\n",
    "           'f1-weighted': evaluation_metrics[1], \\\n",
    "           'Precision-macro': evaluation_metrics[2], \\\n",
    "           'Precision-weighted': evaluation_metrics[3], \\\n",
    "           'Recall-macro': evaluation_metrics[4],\\\n",
    "           'Recall': evaluation_metrics[5],\\\n",
    "           'ROC': evaluation_metrics[6]}\n",
    "    colors = ['g','k','b','r','y','c','m']\n",
    "else:\n",
    "    label_class = 'Justification_reason'\n",
    "    scores = {'f1-macro': evaluation_metrics[0],\n",
    "             'f1_weighted': make_scorer(f1_score, average = 'weighted'),\n",
    "             'precision': make_scorer(precision_score, average = 'macro'),\n",
    "             'precision': make_scorer(precision_score, average = 'weighted'),\n",
    "             'recall': make_scorer(recall_score, average = 'macro'),\n",
    "             'recall': make_scorer(recall_score, average = 'weighted')}\n",
    "    colors = ['g','k','b','r','y','c']\n",
    "    if dataset == 1:\n",
    "        class_names = ['Accepted','RR-4','RR-5','RR-6','RR-7','RR-8',\\\n",
    "                      'RR-9','RR-10','RR_11','Other-R']\n",
    "    elif dataset ==2:\n",
    "        class_names = ['Accepted','RR-4','RR-5','RR-6','RR-7','RR-8',\\\n",
    "                      'RR-9','RR-10','RR_11','Other-R','No-R']\n",
    "    elif dataset == 3:\n",
    "        class_names = ['Accepted','RR-1','RR-2','RR-3','RR-4','RR-5','RR-6','RR-7','RR-8',\\\n",
    "                      'RR-9','RR-10','RR_11','Other-R','No-R']\n",
    "\n",
    "# The hyperparameter grid for the optimization will be specified in the sequel\n",
    "validation_scheme = 0\n",
    "split_proportion = 0.1"
   ]
  },
  {
   "cell_type": "code",
   "execution_count": 3,
   "metadata": {},
   "outputs": [],
   "source": [
    "seed = 42\n",
    "np.random.seed(seed)"
   ]
  },
  {
   "cell_type": "code",
   "execution_count": 4,
   "metadata": {},
   "outputs": [
    {
     "name": "stdout",
     "output_type": "stream",
     "text": [
      "The labeled dataset has 18621821 rows and 93 columns. \n",
      "Memory consumption in megabytes(MB): 13354.88\n"
     ]
    }
   ],
   "source": [
    "import pickle\n",
    "# read the pkl with the labeled dataset:\n",
    "df_cleandata = pd.read_pickle('AllData_AI_ALL_NotEncoded.pkl')\n",
    "# The dataset contains 6'851'424 entities and 62 columns (fields, features);\n",
    "# while most of the categorical fields were converted to numerical ones, few fields remains in text format: \n",
    "# Explanation, ClaimExplanation, Justification, Adjustment\n",
    "# Indeed, these fields will not be used for the training, but will be used as a complementary information in the analysis\n",
    "# of the performance of the model the data is not normalized\n",
    "\n",
    "memStats = df_cleandata.memory_usage()\n",
    "labeldataShape = df_cleandata.shape\n",
    "print(f'''The labeled dataset has \\\n",
    "{labeldataShape[0]} rows and {labeldataShape[1]} columns. \n",
    "Memory consumption in megabytes(MB): {round((memStats/1024/1024).sum(),2)}''')"
   ]
  },
  {
   "cell_type": "code",
   "execution_count": 5,
   "metadata": {},
   "outputs": [],
   "source": [
    "def selection_data(df,sel_columns,text_columns,indices_reasons,verbose):\n",
    "    # This function is created in order to allow the selection of columns and rejected data\n",
    "    # The selection of columns concern the input data for the AI model\n",
    "    # we can select only partially the rejection classes, or all\n",
    "    # the output:\n",
    "    #   - df_new: the input data for the AI model (not yet normalized)\n",
    "    #   - df_reasons: the df relative to the rejection reasons (contains fields like \n",
    "    #     Explanation, ClaimExplanation, Justification, Adjustment, Justification reason)\n",
    "    index = (df['Justification_reason'].isin(indices_reasons))\n",
    "    df_new = df.loc[index,sel_columns].copy().reset_index()\n",
    "    df_reasons = df.loc[index,text_columns].copy().reset_index()\n",
    "    if verbose == True:\n",
    "        print(\"Justification reasons:\")\n",
    "        print(round(df_reasons['Justification_reason'].value_counts(normalize=True).sort_index()*100,2))\n",
    "        print(f'''Initial nb of rows: {df.shape[0]}, final dimension: {df_new.shape[0]}''')\n",
    "        print(df_reasons.shape)\n",
    "    return df_new, df_reasons"
   ]
  },
  {
   "cell_type": "code",
   "execution_count": 6,
   "metadata": {},
   "outputs": [],
   "source": [
    "# Columns that were previously selected\n",
    "selected_cols = ['ItemUUID', 'ClaimUUID', 'ClaimAdminUUID', 'HFUUID', 'LocationUUID', 'HFLocationUUID','InsureeUUID',\\\n",
    "                 'FamilyUUID', 'ICDID', 'ICDID1',\\\n",
    "                 'QtyProvided','PriceAsked', 'ItemPrice',\\\n",
    "                 'ItemFrequency', 'ItemPatCat', 'ItemLevel', \\\n",
    "                 'DateFrom', 'DateTo', 'DateClaimed', 'Age', \\\n",
    "                 'VisitType',  'HFLevel', 'HFCareType',  \\\n",
    "                 'Gender', 'ItemServiceType']\n",
    "text_cols = ['ClaimExplanation', 'Explanation', 'Adjustment', \\\n",
    "             'Justification', 'Justification_reason','Class']\n",
    "\n",
    "selected_cols.append(label_class)"
   ]
  },
  {
   "cell_type": "code",
   "execution_count": 7,
   "metadata": {},
   "outputs": [
    {
     "name": "stdout",
     "output_type": "stream",
     "text": [
      "Justification reasons:\n",
      "0.0     97.35\n",
      "3.0      0.01\n",
      "4.0      0.02\n",
      "5.0      0.00\n",
      "6.0      0.22\n",
      "7.0      0.00\n",
      "8.0      0.02\n",
      "9.0      0.38\n",
      "10.0     0.04\n",
      "11.0     0.80\n",
      "15.0     0.03\n",
      "20.0     1.13\n",
      "Name: Justification_reason, dtype: float64\n",
      "Initial nb of rows: 18621821, final dimension: 6772115\n",
      "(6772115, 7)\n",
      "Justification reasons:\n",
      "20.0    100.0\n",
      "Name: Justification_reason, dtype: float64\n",
      "Initial nb of rows: 18621821, final dimension: 76761\n",
      "(76761, 7)\n"
     ]
    }
   ],
   "source": [
    "# create the dataframe with the selected columns and the associated dataframe wrt reasons\n",
    "df_data, df_reasons = selection_data(df_cleandata,selected_cols,text_cols,indices_reasons,True)\n",
    "\n",
    "df_data_noR, df_reasons_noR = selection_data(df_cleandata,selected_cols,text_cols,[20],True)\n",
    "# Remark: the dataframe df_data contains two label columns: Justification reasons and Class\n",
    "# depending on the objective, we need to drop one column or another\n",
    "\n",
    "# labels = ['1: Missing or unclear document(s) (18.18%)',\\\n",
    "#           '2:According to document (2.71%)',\\\n",
    "#           '3: Missing values (0.17%)',\\\n",
    "#           '4:Need to be claimed individually (0.48%)',\\\n",
    "#           '5: Free item (0.04%)',\\\n",
    "#           '6: Time related issues (5.78%)',\\\n",
    "#           '7: Dosage related issues (0.04%)',\\\n",
    "#           '8: Large quantities (0.39%)',\n",
    "#           '9: Multiple submission (10%)',\\\n",
    "#           '10: Inconsistency btw ICDID and items (1.08%)',\\\n",
    "#           '11: Item included in package (20.88%)',\\\n",
    "#           '12: Other reasons (0.88%)',\\\n",
    "#           '20: No given reason (39.34%)']  "
   ]
  },
  {
   "cell_type": "code",
   "execution_count": 8,
   "metadata": {},
   "outputs": [],
   "source": [
    "del [[df_cleandata]]\n",
    "gc.collect()\n",
    "df_cleandata=pd.DataFrame()"
   ]
  },
  {
   "cell_type": "code",
   "execution_count": 9,
   "metadata": {},
   "outputs": [],
   "source": [
    "# Convert the class field to numeric\n",
    "\n",
    "index_accepted = df_reasons[label_class]=='Accepted'\n",
    "df_reasons.loc[index_accepted,label_class] = 0\n",
    "df_reasons.loc[~index_accepted,label_class] = 1\n",
    "\n",
    "df_reasons[label_class] = pd.to_numeric(df_reasons[label_class])\n",
    "\n",
    "index_accepted = df_data[label_class]=='Accepted'\n",
    "df_data.loc[index_accepted,label_class] = 0\n",
    "df_data.loc[~index_accepted,label_class] = 1\n",
    "\n",
    "df_data[label_class] = pd.to_numeric(df_data[label_class])"
   ]
  },
  {
   "cell_type": "code",
   "execution_count": 10,
   "metadata": {},
   "outputs": [
    {
     "name": "stdout",
     "output_type": "stream",
     "text": [
      "Number of rows in X_train dataset:  (6094903, 25)\n",
      "Number of rows in y_train dataset:  (6094903,)\n",
      "Number of rows in X_test dataset:  (677212, 25)\n",
      "Number of rows in y_test dataset:  (677212,)\n",
      "Number of rows in X_train_JR dataset:  (6094903, 6)\n",
      "Number of rows in X_test_JR dataset:  (677212, 6)\n"
     ]
    }
   ],
   "source": [
    "## split the dataset\n",
    "\n",
    "y = df_data[label_class]\n",
    "X = df_data.drop([label_class], axis=1).copy()\n",
    "X[text_cols]=df_reasons[text_cols]\n",
    "\n",
    "X_train_all, X_test_all, y_train, y_test = train_test_split(X, y, \\\n",
    "                                                    test_size=split_proportion,\\\n",
    "                                                    stratify=y, random_state=0)\n",
    "X_train = X_train_all[selected_cols[:-1]].copy()\n",
    "X_test  = X_test_all[selected_cols[:-1]]\n",
    "X_train_JR = X_train_all[text_cols]\n",
    "X_test_JR  = X_test_all[text_cols]\n",
    "\n",
    "# .drop(text_cols, axis=1, inplace=True)\n",
    "\n",
    "print(\"Number of rows in X_train dataset: \", X_train.shape)\n",
    "print(\"Number of rows in y_train dataset: \", y_train.shape)\n",
    "print(\"Number of rows in X_test dataset: \", X_test.shape)\n",
    "print(\"Number of rows in y_test dataset: \", y_test.shape)\n",
    "print(\"Number of rows in X_train_JR dataset: \", X_train_JR.shape)\n",
    "\n",
    "print(\"Number of rows in X_test_JR dataset: \", X_test_JR.shape)"
   ]
  },
  {
   "cell_type": "code",
   "execution_count": 11,
   "metadata": {},
   "outputs": [
    {
     "name": "stdout",
     "output_type": "stream",
     "text": [
      "['ItemUUID', 'ClaimUUID', 'ClaimAdminUUID', 'HFUUID', 'LocationUUID', 'HFLocationUUID', 'InsureeUUID', 'FamilyUUID', 'ItemLevel', 'VisitType', 'HFLevel', 'HFCareType', 'Gender', 'ItemServiceType']\n"
     ]
    }
   ],
   "source": [
    "# Get categorical fields:\n",
    "obj_df = df_data.select_dtypes(include=['object']).copy()\n",
    "print(list(obj_df))"
   ]
  },
  {
   "cell_type": "code",
   "execution_count": 12,
   "metadata": {},
   "outputs": [],
   "source": [
    "import category_encoders as ce\n",
    "\n",
    "cat_features = ['ItemUUID', 'ClaimUUID', 'ClaimAdminUUID', 'HFUUID',\n",
    "            'LocationUUID', 'HFLocationUUID', 'InsureeUUID', \n",
    "            'FamilyUUID', 'ItemLevel', 'VisitType', 'HFLevel',\n",
    "            'HFCareType', 'Gender', 'ItemServiceType']\n",
    "\n",
    "# Create the encoder itself\n",
    "target_enc = ce.TargetEncoder(cols=cat_features)\n",
    "\n",
    "# Fit the encoder using the categorical features and target\n",
    "target_enc.fit(X_train[cat_features],y_train)\n",
    "\n",
    "X_train[cat_features] = target_enc.transform(X_train[cat_features])\n",
    "X_test[cat_features]  = target_enc.transform(X_test[cat_features])\n",
    "\n",
    "X_train[cat_features] = X_train[cat_features].apply(pd.to_numeric)\n",
    "X_test[cat_features] = X_test[cat_features].apply(pd.to_numeric)"
   ]
  },
  {
   "cell_type": "code",
   "execution_count": 13,
   "metadata": {},
   "outputs": [],
   "source": [
    "# filehandler = open(\"Encoder_protocol4.obj\",\"wb\")\n",
    "# pickle.dump(target_enc,filehandler,protocol=4)\n",
    "# filehandler.close()\n",
    "\n",
    "filehandler = open(\"Encoder_protocol5.obj\",\"wb\")\n",
    "pickle.dump(target_enc,filehandler,protocol=5)\n",
    "filehandler.close()"
   ]
  },
  {
   "cell_type": "code",
   "execution_count": 14,
   "metadata": {},
   "outputs": [],
   "source": [
    "## Normalization\n",
    "\n",
    "if norm_values >0:\n",
    "    if norm_values == 1:\n",
    "        scaler = StandardScaler()\n",
    "    elif norm_values == 2:\n",
    "        scaler = RobustScaler(quantile_range=(25, 75))\n",
    "    scaler.fit_transform(X_train)\n",
    "    X_train =pd.DataFrame(data=scaler.transform(X_train), columns=selected_cols[:-1])\n",
    "    X_test = pd.DataFrame(data=scaler.transform(X_test), columns=selected_cols[:-1])\n",
    "\n",
    "# save the model\n",
    "# pickle.dump(scaler, open('scaler_protocol4.pkl', 'wb'),protocol=4)\n",
    "# pickle.dump(scaler, open('scaler_protocol5.pkl', 'wb'),protocol=5)    "
   ]
  },
  {
   "cell_type": "code",
   "execution_count": 15,
   "metadata": {},
   "outputs": [],
   "source": [
    "del [[X_train_all,X_test_all,X,y]]\n",
    "gc.collect()\n",
    "X_train_all=pd.DataFrame()\n",
    "X_test_all=pd.DataFrame()\n",
    "X = pd.DataFrame()\n",
    "y = pd.DataFrame()"
   ]
  },
  {
   "cell_type": "code",
   "execution_count": 16,
   "metadata": {},
   "outputs": [],
   "source": [
    "from sklearn.ensemble import ExtraTreesClassifier\n",
    "from sklearn.ensemble import RandomForestClassifier\n",
    "from sklearn.tree import DecisionTreeClassifier\n",
    "from xgboost import XGBClassifier\n",
    "\n",
    "# Define the classifiers to be used for the VotingClassifier ensemble:\n",
    "clf1 = ExtraTreesClassifier(criterion = 'entropy',\n",
    "                            class_weight=None,\n",
    "                            max_depth=75,\n",
    "                            max_features=None,\n",
    "                            min_samples_leaf=4,\n",
    "                            min_samples_split=14,\n",
    "                            bootstrap = False,\n",
    "                            n_estimators=100)\n",
    "clf2 = RandomForestClassifier(criterion = 'entropy',\n",
    "                              class_weight=None,\n",
    "                              max_depth=25,\n",
    "                              max_features='sqrt',\n",
    "                              min_samples_leaf = 6,\n",
    "                              min_samples_split = 4,\n",
    "                              bootstrap = False,\n",
    "                              n_estimators=100,\n",
    "                              n_jobs=-1)\n",
    "clf3 = DecisionTreeClassifier(criterion = 'entropy',\n",
    "                              max_depth=50,\n",
    "                              min_samples_leaf = 32,\n",
    "                              min_samples_split = 26)\n",
    "# clf4 = DecisionTreeClassifier(class_weight='balanced',\n",
    "#                               max_depth=15,\n",
    "#                               min_samples_leaf = 32,\n",
    "#                               min_samples_split = 26)\n",
    "clf5 = XGBClassifier(objective ='binary:logistic',\n",
    "                        learning_rate= 0.10,\n",
    "                        max_depth= 25,\n",
    "                        subsample= 1,\n",
    "                        colsample_bytree=  0.9,\n",
    "                        scale_pos_weight= 1)\n",
    "\n",
    "# # Combine the classifiers in the ensemble model\n",
    "# # ('lr', clf1),\n",
    "ensemble_model_hard = VotingClassifier(estimators=[('XTC', clf1), \n",
    "                                              ('rf', clf2),\n",
    "#                                               ('dt1', clf3),\n",
    "                                              ('xgb',clf5)],\n",
    "                                  voting='hard',\n",
    "                                 n_jobs=10,\n",
    "                                 verbose=True)\n",
    "\n",
    "# # Fit the model to your training data and get the predicted results\n",
    "ensemble_model_hard.fit(X_train,y_train)\n",
    "y_predicted_hard = ensemble_model_hard.predict(X_test)"
   ]
  },
  {
   "cell_type": "code",
   "execution_count": 17,
   "metadata": {},
   "outputs": [
    {
     "data": {
      "text/plain": [
       "['joblib_Voting_Model.pkl']"
      ]
     },
     "execution_count": 17,
     "metadata": {},
     "output_type": "execute_result"
    }
   ],
   "source": [
    "import joblib\n",
    "\n",
    "joblib_file = \"joblib_Voting_Model.pkl\"  \n",
    "joblib.dump(ensemble_model_hard, joblib_file)"
   ]
  },
  {
   "cell_type": "code",
   "execution_count": 18,
   "metadata": {},
   "outputs": [],
   "source": [
    "y_test_all = pd.DataFrame()\n",
    "y_test_all['True'] = np.array(y_test)\n",
    "y_test_all['Predicted'] = np.array(y_predicted_hard)"
   ]
  },
  {
   "cell_type": "code",
   "execution_count": 19,
   "metadata": {},
   "outputs": [],
   "source": [
    "# y_test_all.to_pickle('TestData_y.pkl') \n",
    "# X_test.to_pickle('TestData_X.pkl') "
   ]
  },
  {
   "cell_type": "code",
   "execution_count": 20,
   "metadata": {},
   "outputs": [
    {
     "name": "stdout",
     "output_type": "stream",
     "text": [
      "Classifier report:\n",
      "               precision    recall  f1-score   support\n",
      "\n",
      "           0     0.9897    0.9967    0.9932    659235\n",
      "           1     0.8362    0.6209    0.7127     17977\n",
      "\n",
      "    accuracy                         0.9867    677212\n",
      "   macro avg     0.9130    0.8088    0.8529    677212\n",
      "weighted avg     0.9857    0.9867    0.9857    677212\n",
      "\n",
      "Confusion matrix:\n",
      " [[657049   2186]\n",
      " [  6815  11162]]\n"
     ]
    }
   ],
   "source": [
    "# Print Classification report and Confusion matrix of the model\n",
    "print('Classifier report:\\n',classification_report(y_test,y_predicted_hard, digits=4))\n",
    "print('Confusion matrix:\\n',confusion_matrix(y_test,y_predicted_hard))"
   ]
  },
  {
   "cell_type": "code",
   "execution_count": 21,
   "metadata": {},
   "outputs": [
    {
     "data": {
      "image/png": "[encoded data removed]",
      "text/plain": [
       "<Figure size 432x288 with 2 Axes>"
      ]
     },
     "metadata": {},
     "output_type": "display_data"
    }
   ],
   "source": [
    "cm2 = confusion_matrix(y_test,y_predicted_hard)\n",
    "# plt.figure(figsize=(20,15))\n",
    "sns.set(font_scale=1.4)\n",
    "ax=sns.heatmap(cm2, annot=True, fmt='g')\n",
    "ax.set(xlabel='Predicted class \\n (0: Accepted || >0: Rejected)', \n",
    "       ylabel='Actual class \\n (0: Accepted || >0: Rejected)')\n",
    "plt.show()"
   ]
  },
  {
   "cell_type": "markdown",
   "metadata": {},
   "source": [
    "## Analyse the classifiers results"
   ]
  },
  {
   "cell_type": "code",
   "execution_count": 22,
   "metadata": {},
   "outputs": [
    {
     "name": "stdout",
     "output_type": "stream",
     "text": [
      "Classifier report:\n",
      "               precision    recall  f1-score   support\n",
      "\n",
      "           0     0.9896    0.9964    0.9930    659235\n",
      "           1     0.8238    0.6173    0.7058     17977\n",
      "\n",
      "    accuracy                         0.9863    677212\n",
      "   macro avg     0.9067    0.8069    0.8494    677212\n",
      "weighted avg     0.9852    0.9863    0.9854    677212\n",
      "\n",
      "Confusion matrix:\n",
      " [[656861   2374]\n",
      " [  6879  11098]]\n",
      "Classifier report:\n",
      "               precision    recall  f1-score   support\n",
      "\n",
      "           0     0.9966    0.9988    0.9977   5933114\n",
      "           1     0.9533    0.8734    0.9116    161789\n",
      "\n",
      "    accuracy                         0.9955   6094903\n",
      "   macro avg     0.9749    0.9361    0.9546   6094903\n",
      "weighted avg     0.9954    0.9955    0.9954   6094903\n",
      "\n",
      "Confusion matrix:\n",
      " [[5926190    6924]\n",
      " [  20480  141309]]\n"
     ]
    }
   ],
   "source": [
    "# Extra Trees Classifier\n",
    "\n",
    "clf1_trained = clf1.fit(X_train,y_train)\n",
    "y_pred_train_1 = clf1_trained.predict(X_train)\n",
    "y_pred_test_1  = clf1_trained.predict(X_test)\n",
    "\n",
    "print('Classifier report:\\n',classification_report(y_test,y_pred_test_1,digits=4))\n",
    "print('Confusion matrix:\\n',confusion_matrix(y_test,y_pred_test_1))\n",
    "\n",
    "print('Classifier report:\\n',classification_report(y_train,y_pred_train_1,digits=4))\n",
    "print('Confusion matrix:\\n',confusion_matrix(y_train,y_pred_train_1))"
   ]
  },
  {
   "cell_type": "code",
   "execution_count": 23,
   "metadata": {},
   "outputs": [
    {
     "name": "stdout",
     "output_type": "stream",
     "text": [
      "Classifier report:\n",
      "               precision    recall  f1-score   support\n",
      "\n",
      "           0     0.9896    0.9969    0.9932    659235\n",
      "           1     0.8431    0.6173    0.7128     17977\n",
      "\n",
      "    accuracy                         0.9868    677212\n",
      "   macro avg     0.9164    0.8071    0.8530    677212\n",
      "weighted avg     0.9858    0.9868    0.9858    677212\n",
      "\n",
      "Confusion matrix:\n",
      " [[657170   2065]\n",
      " [  6879  11098]]\n",
      "Classifier report:\n",
      "               precision    recall  f1-score   support\n",
      "\n",
      "           0     0.9967    0.9990    0.9978   5933114\n",
      "           1     0.9605    0.8769    0.9168    161789\n",
      "\n",
      "    accuracy                         0.9958   6094903\n",
      "   macro avg     0.9786    0.9380    0.9573   6094903\n",
      "weighted avg     0.9957    0.9958    0.9957   6094903\n",
      "\n",
      "Confusion matrix:\n",
      " [[5927286    5828]\n",
      " [  19919  141870]]\n"
     ]
    }
   ],
   "source": [
    "# Random Forest classifier\n",
    "clf2_trained = clf2.fit(X_train,y_train)\n",
    "y_pred_train_2 = clf2_trained.predict(X_train)\n",
    "y_pred_test_2  = clf2_trained.predict(X_test)\n",
    "\n",
    "print('Classifier report:\\n',classification_report(y_test,y_pred_test_2,digits=4))\n",
    "print('Confusion matrix:\\n',confusion_matrix(y_test,y_pred_test_2))\n",
    "\n",
    "print('Classifier report:\\n',classification_report(y_train,y_pred_train_2,digits=4))\n",
    "print('Confusion matrix:\\n',confusion_matrix(y_train,y_pred_train_2))"
   ]
  },
  {
   "cell_type": "code",
   "execution_count": 24,
   "metadata": {},
   "outputs": [
    {
     "name": "stdout",
     "output_type": "stream",
     "text": [
      "Classifier report:\n",
      "               precision    recall  f1-score   support\n",
      "\n",
      "           0     0.9893    0.9956    0.9924    659235\n",
      "           1     0.7885    0.6047    0.6845     17977\n",
      "\n",
      "    accuracy                         0.9852    677212\n",
      "   macro avg     0.8889    0.8001    0.8384    677212\n",
      "weighted avg     0.9840    0.9852    0.9842    677212\n",
      "\n",
      "Confusion matrix:\n",
      " [[656320   2915]\n",
      " [  7107  10870]]\n",
      "Classifier report:\n",
      "               precision    recall  f1-score   support\n",
      "\n",
      "           0     0.9946    0.9972    0.9959   5933114\n",
      "           1     0.8851    0.8000    0.8404    161789\n",
      "\n",
      "    accuracy                         0.9919   6094903\n",
      "   macro avg     0.9398    0.8986    0.9181   6094903\n",
      "weighted avg     0.9917    0.9919    0.9917   6094903\n",
      "\n",
      "Confusion matrix:\n",
      " [[5916311   16803]\n",
      " [  32360  129429]]\n"
     ]
    }
   ],
   "source": [
    "# DecisionTree CLassifier\n",
    "clf3_trained = clf3.fit(X_train,y_train)\n",
    "y_pred_train_3 = clf3_trained.predict(X_train)\n",
    "y_pred_test_3  = clf3_trained.predict(X_test)\n",
    "\n",
    "print('Classifier report:\\n',classification_report(y_test,y_pred_test_3,digits=4))\n",
    "print('Confusion matrix:\\n',confusion_matrix(y_test,y_pred_test_3))\n",
    "\n",
    "print('Classifier report:\\n',classification_report(y_train,y_pred_train_3,digits=4))\n",
    "print('Confusion matrix:\\n',confusion_matrix(y_train,y_pred_train_3))"
   ]
  },
  {
   "cell_type": "code",
   "execution_count": 25,
   "metadata": {},
   "outputs": [
    {
     "name": "stdout",
     "output_type": "stream",
     "text": [
      "[10:46:19] WARNING: C:/Users/Administrator/workspace/xgboost-win64_release_1.3.0/src/learner.cc:1061: Starting in XGBoost 1.3.0, the default evaluation metric used with the objective 'binary:logistic' was changed from 'error' to 'logloss'. Explicitly set eval_metric if you'd like to restore the old behavior.\n",
      "Classifier report:\n",
      "               precision    recall  f1-score   support\n",
      "\n",
      "           0     0.9900    0.9958    0.9929    659235\n",
      "           1     0.8047    0.6313    0.7075     17977\n",
      "\n",
      "    accuracy                         0.9861    677212\n",
      "   macro avg     0.8973    0.8135    0.8502    677212\n",
      "weighted avg     0.9851    0.9861    0.9853    677212\n",
      "\n",
      "Confusion matrix:\n",
      " [[656480   2755]\n",
      " [  6629  11348]]\n",
      "Classifier report:\n",
      "               precision    recall  f1-score   support\n",
      "\n",
      "           0     0.9989    0.9996    0.9993   5933114\n",
      "           1     0.9844    0.9614    0.9727    161789\n",
      "\n",
      "    accuracy                         0.9986   6094903\n",
      "   macro avg     0.9917    0.9805    0.9860   6094903\n",
      "weighted avg     0.9986    0.9986    0.9986   6094903\n",
      "\n",
      "Confusion matrix:\n",
      " [[5930642    2472]\n",
      " [   6253  155536]]\n"
     ]
    }
   ],
   "source": [
    "# Extra Gradient Boost\n",
    "clf5_trained = clf5.fit(X_train,y_train)\n",
    "y_pred_train_5 = clf5_trained.predict(X_train)\n",
    "y_pred_test_5  = clf5_trained.predict(X_test)\n",
    "\n",
    "print('Classifier report:\\n',classification_report(y_test,y_pred_test_5,digits=4))\n",
    "print('Confusion matrix:\\n',confusion_matrix(y_test,y_pred_test_5))\n",
    "\n",
    "print('Classifier report:\\n',classification_report(y_train,y_pred_train_5,digits=4))\n",
    "print('Confusion matrix:\\n',confusion_matrix(y_train,y_pred_train_5))"
   ]
  },
  {
   "cell_type": "code",
   "execution_count": 26,
   "metadata": {},
   "outputs": [],
   "source": [
    "clf1_probs = clf1_trained.predict_proba(X_test)\n",
    "clf2_probs = clf2_trained.predict_proba(X_test)\n",
    "clf5_probs = clf5_trained.predict_proba(X_test)"
   ]
  },
  {
   "cell_type": "code",
   "execution_count": 28,
   "metadata": {},
   "outputs": [],
   "source": [
    "X_results = pd.DataFrame()\n",
    "\n",
    "X_results['Class'] = np.array(y_test)\n",
    "X_results['Voting'] = np.array(y_predicted_hard)\n",
    "X_results['ExtraTrees'] = np.array(y_pred_test_1)\n",
    "X_results['RandomForest'] = np.array(y_pred_test_2)\n",
    "X_results['XGB'] = np.array(y_pred_test_5)\n",
    "\n",
    "# X_test_results['Justification_reason'] = np.array(X_test_JR['Justification_reason'])"
   ]
  },
  {
   "cell_type": "code",
   "execution_count": 29,
   "metadata": {},
   "outputs": [
    {
     "data": {
      "image/png": "[encoded data removed]",
      "text/plain": [
       "<Figure size 1296x1296 with 2 Axes>"
      ]
     },
     "metadata": {},
     "output_type": "display_data"
    }
   ],
   "source": [
    "corr = pd.concat([pd.Series(y_pred_test_1, name=\"Extra-Trees\"),\n",
    "                  pd.Series(y_pred_test_2, name=\"Random Forest\"), \n",
    "                  pd.Series(y_pred_test_5, name=\"Extra Gradient Boost\")],axis=1)\n",
    "\n",
    "plt.figure(figsize=(18,18))\n",
    "sns.set(font_scale=1.4)\n",
    "sns.heatmap(corr.corr(),annot=True)\n",
    "plt.show()"
   ]
  },
  {
   "cell_type": "code",
   "execution_count": 30,
   "metadata": {},
   "outputs": [],
   "source": [
    "# corr = pd.concat([pd.Series(y_pred_test_1, name=\"EXT\"),\n",
    "#                   pd.Series(y_pred_test_2, name=\"RF\"),\n",
    "#                   pd.Series(y_pred_test_3, name=\"DT1\"), \n",
    "#                   pd.Series(y_pred_test_5, name=\"XGB\")],axis=1)\n",
    "\n",
    "# plt.figure(figsize=(18,18))\n",
    "# sns.heatmap(corr.corr(),annot=True)\n",
    "# plt.show()"
   ]
  }
 ],
 "metadata": {
  "kernelspec": {
   "display_name": "Python 3",
   "language": "python",
   "name": "python3"
  },
  "language_info": {
   "codemirror_mode": {
    "name": "ipython",
    "version": 3
   },
   "file_extension": ".py",
   "mimetype": "text/x-python",
   "name": "python",
   "nbconvert_exporter": "python",
   "pygments_lexer": "ipython3",
   "version": "3.8.5"
  }
 },
 "nbformat": 4,
 "nbformat_minor": 4
}
