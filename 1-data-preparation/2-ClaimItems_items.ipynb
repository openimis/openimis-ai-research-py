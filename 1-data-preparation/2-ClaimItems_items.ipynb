{
 "cells": [
  {
   "cell_type": "code",
   "execution_count": null,
   "metadata": {},
   "outputs": [],
   "source": [
    "# import necessaries modules:\n",
    "import numpy as np\n",
    "import pandas as pd\n",
    "import datetime\n",
    "import gc"
   ]
  },
  {
   "cell_type": "markdown",
   "metadata": {},
   "source": [
    "## Step 1. Reading the data related to tblClaimItems"
   ]
  },
  {
   "cell_type": "markdown",
   "metadata": {},
   "source": [
    "### Step 1.1: Reading tblClaimItems"
   ]
  },
  {
   "cell_type": "code",
   "execution_count": null,
   "metadata": {},
   "outputs": [],
   "source": [
    "# csv file related to the tblClaimItems:\n",
    "filename = 'openIMIS csv/claim_items2020.csv'\n",
    "\n",
    "# selection of columns (the entire table has 30 columns)\n",
    "cols = ['ClaimItemID', 'ClaimID', 'ItemID','ProdID','PolicyID',\\\n",
    "        'ClaimItemStatus','RejectionReason',\\\n",
    "        'QtyProvided','QtyApproved','PriceAsked','PriceApproved','PriceValuated',\\\n",
    "       'Explanation','Justification',\n",
    "       'ValidityFromReview','AuditUserIDReview']\n",
    "\n",
    "# read the csv file\n",
    "df_claim_items_raw = pd.read_csv(filename,low_memory=False,usecols=cols,\\\n",
    "                                 parse_dates = ['ValidityFromReview'])\n",
    "df_claim_items_raw = df_claim_items_raw.iloc[:-2,:]\n",
    "\n",
    "# add a column 'ItemServiceType' with all values equal to 'Medication':\n",
    "df_claim_items_raw['ItemServiceType']='Medication'\n",
    "\n",
    "memStats_claim_items = (df_claim_items_raw.memory_usage()/1024/1024).sum()\n",
    "shape_claim_items = df_claim_items_raw.shape"
   ]
  },
  {
   "cell_type": "markdown",
   "metadata": {},
   "source": [
    "### Step 1.2: Reading tblItems"
   ]
  },
  {
   "cell_type": "code",
   "execution_count": null,
   "metadata": {},
   "outputs": [],
   "source": [
    "# csv file related to the tblItems:\n",
    "filename = 'openIMIS csv/items2020.csv'\n",
    "\n",
    "# selection of columns\n",
    "cols = ['ItemID', 'ItemCode', 'ItemName', 'ItemType', \\\n",
    "         'ItemPrice', 'ItemCareType', 'ItemFrequency', 'ItemPatCat',\\\n",
    "         'ItemUUID','ValidityFrom','ValidityTo']\n",
    "\n",
    "# read the csv file\n",
    "df_items_raw = pd.read_csv(filename,low_memory=False,usecols=cols,\\\n",
    "                          parse_dates = ['ValidityFrom','ValidityTo'])\n",
    "df_items_raw = df_items_raw.iloc[:-2,:]\n",
    "\n",
    "# rename the columns in order to have similar name as the claimservices related dataset\n",
    "df_items_raw.rename(columns = {'ValidityFrom': 'ItemValidityFrom',\n",
    "                                 'ValidityTo': 'ItemValidityTo'}, inplace = True)\n",
    "\n",
    "df_items_raw['ItemID'] = df_items_raw['ItemID'].astype(float)\n",
    "\n",
    "# add a column 'ItemLevel' in order o have coherence with the concatenation of the\n",
    "# tblClaimServices and tblServices:\n",
    "df_items_raw['ItemLevel'] = 'M'\n",
    "\n",
    "memStats_items = (df_items_raw.memory_usage()/1024/1024).sum()\n",
    "shape_items = df_items_raw.shape"
   ]
  },
  {
   "cell_type": "markdown",
   "metadata": {},
   "source": [
    "   ### Step 1.3: Concatention of the tblClaimItems with tblItems (based on ItemID column)"
   ]
  },
  {
   "cell_type": "code",
   "execution_count": null,
   "metadata": {},
   "outputs": [],
   "source": [
    "df_concat = pd.merge(df_claim_items_raw,df_items_raw,on='ItemID')\n",
    "\n",
    "memStats_claim_items_c = (df_concat.memory_usage()/1024/1024).sum()\n",
    "shape_claim_items_c = df_concat.shape"
   ]
  },
  {
   "cell_type": "code",
   "execution_count": null,
   "metadata": {},
   "outputs": [],
   "source": [
    "# deleting dataframes no longer necessary\n",
    "del [[df_claim_items_raw,df_items_raw]]\n",
    "df_claim_items_raw=pd.DataFrame()\n",
    "df_items_raw=pd.DataFrame()\n",
    "gc.collect()"
   ]
  },
  {
   "cell_type": "markdown",
   "metadata": {},
   "source": [
    "### Step 2: Reading the claim related file\n",
    "This is an already concatenated file with all the fields related to other tables (tblClaimAdmins, tblHF, tblLocations, tblInsuree, tblFamilies, tblDiagnosis)"
   ]
  },
  {
   "cell_type": "code",
   "execution_count": null,
   "metadata": {},
   "outputs": [],
   "source": [
    "# open the concatenated file related to claims\n",
    "df_claims_raw=pd.read_pickle('openIMIS csv/ClaimsPlus2020_sel.pkl') \n",
    "\n",
    "memStats_claims = (df_claims_raw.memory_usage()/1024/1024).sum()\n",
    "shape_claims = df_claims_raw.shape"
   ]
  },
  {
   "cell_type": "markdown",
   "metadata": {},
   "source": [
    "### Step 3: Merge all dataframes"
   ]
  },
  {
   "cell_type": "code",
   "execution_count": null,
   "metadata": {},
   "outputs": [],
   "source": [
    "df_citems_sel = pd.merge(df_concat,df_claims_raw,on='ClaimID')"
   ]
  },
  {
   "cell_type": "code",
   "execution_count": null,
   "metadata": {},
   "outputs": [],
   "source": [
    "# Verify if item valid\n",
    "cond1 = (df_citems_sel['DateFrom']>df_citems_sel['ItemValidityFrom'])&\\\n",
    "(df_citems_sel['ItemValidityTo'].isnull())\n",
    "cond2 = (df_citems_sel['DateFrom']>df_citems_sel['ItemValidityFrom'])&\\\n",
    "(df_citems_sel['ItemValidityTo'].notnull())&\\\n",
    "(df_citems_sel['DateTo']>df_citems_sel['ItemValidityTo'])\n",
    "\n",
    "# create a list of Valid/Not Valid items \n",
    "validcond = cond1|cond2\n",
    "\n",
    "# create a new column \n",
    "df_citems_sel.loc[validcond,('ValidItem')] = 1\n",
    "df_citems_sel.loc[~validcond,('ValidItem')] = 0"
   ]
  },
  {
   "cell_type": "code",
   "execution_count": null,
   "metadata": {},
   "outputs": [],
   "source": [
    "# Verify if ClaimAdmin valid\n",
    "cond1 = (df_citems_sel['DateFrom']>df_citems_sel['ClaimAdminValidityFrom'])&\\\n",
    "(df_citems_sel['ClaimAdminValidityTo'].isnull())\n",
    "cond2 = (df_citems_sel['DateFrom']>df_citems_sel['ClaimAdminValidityFrom'])&\\\n",
    "(df_citems_sel['ClaimAdminValidityTo'].notnull())&\\\n",
    "(df_citems_sel['DateTo']>df_citems_sel['ClaimAdminValidityTo'])\n",
    "\n",
    "# create a list of Valid/Not Valid items \n",
    "validcond = cond1|cond2\n",
    "\n",
    "# create a new column \n",
    "df_citems_sel.loc[validcond,('ValidClaimAdmin')] = 1\n",
    "df_citems_sel.loc[~validcond,('ValidClaimAdmin')] = 0"
   ]
  },
  {
   "cell_type": "code",
   "execution_count": null,
   "metadata": {},
   "outputs": [],
   "source": [
    "# Verify if Insuree valid\n",
    "cond1 = (df_citems_sel['DateFrom']>df_citems_sel['InsureeValidityFrom'])&\\\n",
    "(df_citems_sel['InsureeValidityTo'].isnull())\n",
    "cond2 = (df_citems_sel['DateFrom']>df_citems_sel['ClaimAdminValidityFrom'])&\\\n",
    "(df_citems_sel['InsureeValidityTo'].notnull())&\\\n",
    "(df_citems_sel['DateTo']>df_citems_sel['InsureeValidityTo'])\n",
    "\n",
    "# create a list of Valid/Not Valid items \n",
    "validcond = cond1|cond2\n",
    "\n",
    "# create a new column \n",
    "df_citems_sel.loc[validcond,('ValidInsuree')] = 1\n",
    "df_citems_sel.loc[~validcond,('ValidInsuree')] = 0"
   ]
  },
  {
   "cell_type": "code",
   "execution_count": null,
   "metadata": {},
   "outputs": [],
   "source": [
    "# Verify if Family valid\n",
    "cond1 = (df_citems_sel['DateFrom']>df_citems_sel['FamilyValidityFrom'])&\\\n",
    "(df_citems_sel['FamilyValidityTo'].isnull())\n",
    "cond2 = (df_citems_sel['DateFrom']>df_citems_sel['FamilyValidityFrom'])&\\\n",
    "(df_citems_sel['FamilyValidityTo'].notnull())&\\\n",
    "(df_citems_sel['DateTo']>df_citems_sel['FamilyValidityTo'])\n",
    "\n",
    "# create a list of Valid/Not Valid items \n",
    "validitem = cond1|cond2\n",
    "\n",
    "# create a new column \n",
    "df_citems_sel.loc[validitem,('ValidFamily')] = 1\n",
    "df_citems_sel.loc[~validitem,('ValidFamily')] = 0"
   ]
  },
  {
   "cell_type": "code",
   "execution_count": null,
   "metadata": {},
   "outputs": [],
   "source": [
    "# Verify if Location valid\n",
    "cond1 = (df_citems_sel['DateFrom']>df_citems_sel['LocationValidityFrom'])&\\\n",
    "(df_citems_sel['LocationValidityTo'].isnull())\n",
    "cond2 = (df_citems_sel['DateFrom']>df_citems_sel['LocationValidityFrom'])&\\\n",
    "(df_citems_sel['LocationValidityTo'].notnull())&\\\n",
    "(df_citems_sel['DateTo']>df_citems_sel['LocationValidityTo'])\n",
    "\n",
    "# create a list of Valid/Not Valid items \n",
    "validitem = cond1|cond2\n",
    "\n",
    "# create a new column \n",
    "df_citems_sel.loc[validitem,('ValidLocation')] = 1\n",
    "df_citems_sel.loc[~validitem,('ValidLocation')] = 0"
   ]
  },
  {
   "cell_type": "code",
   "execution_count": null,
   "metadata": {},
   "outputs": [],
   "source": [
    "# Verify if ICD valid\n",
    "cond1 = (df_citems_sel['DateFrom']>df_citems_sel['ICDValidityFrom'])&\\\n",
    "(df_citems_sel['ICDValidityTo'].isnull())\n",
    "cond2 = (df_citems_sel['DateFrom']>df_citems_sel['ICDValidityFrom'])&\\\n",
    "(df_citems_sel['ICDValidityTo'].notnull())&\\\n",
    "(df_citems_sel['DateTo']>df_citems_sel['ICDValidityTo'])\n",
    "\n",
    "# create a list of Valid/Not Valid items \n",
    "validitem = cond1|cond2\n",
    "\n",
    "# create a new column \n",
    "df_citems_sel.loc[validitem,('ValidICD')] = 1\n",
    "df_citems_sel.loc[~validitem,('ValidICD')] = 0"
   ]
  },
  {
   "cell_type": "code",
   "execution_count": null,
   "metadata": {},
   "outputs": [],
   "source": [
    "df_citems_sel.drop(['ItemValidityFrom','ItemValidityTo',\\\n",
    "                    'ClaimAdminValidityFrom','ClaimAdminValidityTo',\\\n",
    "                   'InsureeValidityFrom','InsureeValidityTo',\\\n",
    "                   'FamilyValidityFrom','FamilyValidityTo',\\\n",
    "                   'LocationValidityFrom','LocationValidityTo',\\\n",
    "                   'ICDValidityFrom','ICDValidityTo'], axis=1, inplace=True)"
   ]
  },
  {
   "cell_type": "code",
   "execution_count": null,
   "metadata": {},
   "outputs": [],
   "source": [
    "memStats = (df_citems_sel.memory_usage()/1024/1024).sum()\n",
    "shape_ciems_sel = df_citems_sel.shape"
   ]
  },
  {
   "cell_type": "code",
   "execution_count": null,
   "metadata": {},
   "outputs": [],
   "source": [
    "# save the results:\n",
    "df_citems_sel.to_pickle('openIMIS csv/ClaimItems_Items2020_sel.pkl') \n",
    "#df_concat.to_csv('openIMIS csv/ClaimItems_Items2000_sel.csv') "
   ]
  },
  {
   "cell_type": "markdown",
   "metadata": {},
   "source": [
    "## Summary"
   ]
  },
  {
   "cell_type": "code",
   "execution_count": null,
   "metadata": {},
   "outputs": [],
   "source": [
    "# Summary concerning the concatenation\n",
    "print(f'''Summary of the concatenation process:\n",
    "- tblClaimItems has : {shape_claim_items[0]} rows ; {shape_claim_items[1]} columns ; {round(memStats_claim_items,2)} memory consumption;\n",
    "- tblItems has : {shape_items[0]} rows ; {shape_items[1]} columns ; {round(memStats_items,2)} memory consumption;\n",
    "- Concatenation of tblClaimItems and tblItems has : {shape_claim_items_c[0]} rows ;\n",
    "{shape_claim_items_c[1]} columns ; {round(memStats_claim_items_c,2)} memory consumption;\n",
    "- tblClaims has : {shape_claims[0]} rows ; {shape_claims[1]} columns ; {round(memStats_claims,2)} memory consumption;\n",
    "- Concatenation of previous tables has : {shape_ciems_sel[0]} rows ;\n",
    "{shape_ciems_sel[1]} columns ;{round(memStats,2)} memory consumption;\n",
    "''')"
   ]
  }
 ],
 "metadata": {
  "kernelspec": {
   "display_name": "Python 3",
   "language": "python",
   "name": "python3"
  },
  "language_info": {
   "codemirror_mode": {
    "name": "ipython",
    "version": 3
   },
   "file_extension": ".py",
   "mimetype": "text/x-python",
   "name": "python",
   "nbconvert_exporter": "python",
   "pygments_lexer": "ipython3",
   "version": "3.7.3"
  }
 },
 "nbformat": 4,
 "nbformat_minor": 2
}
