{
 "cells": [
  {
   "cell_type": "code",
   "execution_count": 1,
   "metadata": {},
   "outputs": [
    {
     "name": "stderr",
     "output_type": "stream",
     "text": [
      "/home/simona/anaconda3/lib/python3.7/site-packages/statsmodels/tools/_testing.py:19: FutureWarning: pandas.util.testing is deprecated. Use the functions in the public API at pandas.testing instead.\n",
      "  import pandas.util.testing as tm\n"
     ]
    }
   ],
   "source": [
    "# import modules\n",
    "\n",
    "import numpy as np\n",
    "import datetime\n",
    "import seaborn as sns\n",
    "import datetime\n",
    "import matplotlib.pyplot as plt\n",
    "import pandas as pd\n",
    "\n",
    "import gc\n",
    "\n",
    "from sklearn.preprocessing import LabelEncoder\n",
    "\n",
    "from sklearn.preprocessing import MinMaxScaler\n",
    "from sklearn.preprocessing import minmax_scale\n",
    "from sklearn.preprocessing import MaxAbsScaler\n",
    "from sklearn.preprocessing import StandardScaler\n",
    "from sklearn.preprocessing import RobustScaler\n",
    "from sklearn.preprocessing import Normalizer\n",
    "from sklearn.preprocessing import QuantileTransformer\n",
    "from sklearn.preprocessing import PowerTransformer\n",
    "\n",
    "# Constants definition:\n",
    "CS_Rejected = 1\n",
    "CS_Entered  = 2\n",
    "CS_Checked  = 4\n",
    "CS_Valuated = 16\n",
    "\n",
    "RS_Idle = 1\n",
    "RS_NotSelected = 2\n",
    "RS_SelectedForReview = 4\n",
    "RS_Reviewed = 8\n",
    "RS_Bypassed = 16\n",
    "\n",
    "#RR:RejectionReason\n",
    "RR_Accepted = 0 \n",
    "RR_RbyMO    = -1\n",
    "\n",
    "#CIS:ClaimItemStatus\n",
    "CIS_Accepted = 1\n",
    "CIS_Rejected = 2"
   ]
  },
  {
   "cell_type": "markdown",
   "metadata": {},
   "source": [
    "# Introduction\n",
    "**Note**: the data preparation step covers several tasks related to\n",
    "- Data concatenation\n",
    "- Sanity check: verify if all the data is coherent and exclude incoherencies;\n",
    "- **Filling missing values** in the dataset: filling strategies specific to each column\n",
    "- **Converting categorical** data to numeric: date and text variables\n",
    "- **Data normalization**"
   ]
  },
  {
   "cell_type": "markdown",
   "metadata": {},
   "source": [
    "# Filling missing values\n",
    "\n",
    "The present file is dealing with filling the missing values in the cleaned dataset."
   ]
  },
  {
   "cell_type": "code",
   "execution_count": 2,
   "metadata": {},
   "outputs": [],
   "source": [
    "df_cleandata_labeled = pd.read_pickle('openIMIS csv/AllData_LabeledData_Selection.pkl') "
   ]
  },
  {
   "cell_type": "code",
   "execution_count": 3,
   "metadata": {},
   "outputs": [
    {
     "data": {
      "text/plain": [
       "240788"
      ]
     },
     "execution_count": 3,
     "metadata": {},
     "output_type": "execute_result"
    }
   ],
   "source": [
    "df_cleandata_labeled['HFSublevel'].isnull().sum()"
   ]
  },
  {
   "cell_type": "code",
   "execution_count": 4,
   "metadata": {},
   "outputs": [
    {
     "name": "stdout",
     "output_type": "stream",
     "text": [
      " All the columns presenting missing values are: \n",
      "\n",
      "['QtyApproved', 'PriceApproved', 'PriceValuated', 'Explanation', 'Justification', 'Adjustment', 'Approved', 'DateProcessed', 'ClaimExplanation', 'ICDID1', 'ClaimCategory', 'Marital', 'Relationship', 'HFSublevel'].\n",
      "\n",
      "As part of the columns will be dropped as no longer necessary, we will continue filling of missing values only for necessary columns, i.e 'QtyApproved', 'PriceApproved', 'ICDID1', 'Relationship'.\n",
      "\n",
      "Concerning the other columns:\n",
      "- 'Explanation', 'Justification', 'Adjustment', 'ClaimExplanation' - are text fields,necessary for the communication between patient, ClaimAdmin, Medical Officer and it is important in order to understand this communication and extract rejection reasons; It will no longer be necessary, can be droped;\n",
      "- ClaimCategory: as 2 318 982 values are missing, this field will be droped;\n",
      "- Marital: as 1 609 393 values are missing, this fields will be droped;\n",
      "- HFSublevel: as 240 788 values are missing and there is no strategy for filling the missing values, this column will be droped;\n",
      "\n"
     ]
    }
   ],
   "source": [
    "print(f''' All the columns presenting missing values are: \n",
    "\n",
    "{list(df_cleandata_labeled.columns[df_cleandata_labeled.isnull().any()])}.\n",
    "\n",
    "As part of the columns will be dropped as no longer necessary, we will continue filling of \\\n",
    "missing values only for necessary columns, i.e \\\n",
    "'QtyApproved', 'PriceApproved', 'ICDID1', 'Relationship'.\n",
    "\n",
    "Concerning the other columns:\n",
    "- 'Explanation', 'Justification', 'Adjustment', 'ClaimExplanation' - are text fields,\\\n",
    "necessary for the communication between patient, ClaimAdmin, Medical Officer and \\\n",
    "it is important in order to understand this communication and extract rejection reasons; \\\n",
    "It will no longer be necessary, can be droped;\n",
    "- ClaimCategory: as 2 318 982 values are missing, this field will be droped;\n",
    "- Marital: as 1 609 393 values are missing, this fields will be droped;\n",
    "- HFSublevel: as 240 788 values are missing and there is no strategy \\\n",
    "for filling the missing values, this column will be droped;\n",
    "''')\n"
   ]
  },
  {
   "cell_type": "code",
   "execution_count": 5,
   "metadata": {},
   "outputs": [],
   "source": [
    "droped_cols = ['ClaimCategory','Marital','HFSublevel',\\\n",
    "              'Explanation', 'Justification', 'Adjustment', 'ClaimExplanation',\\\n",
    "              'DateProcessed']\n",
    "df_cleandata_labeled.drop(droped_cols, axis=1, inplace=True)               \n"
   ]
  },
  {
   "cell_type": "markdown",
   "metadata": {},
   "source": [
    "## Step 1.1:  Fill missing values in the QtyApproved column"
   ]
  },
  {
   "cell_type": "code",
   "execution_count": 6,
   "metadata": {},
   "outputs": [
    {
     "data": {
      "text/plain": [
       "Series([], Name: PriceValuated, dtype: int64)"
      ]
     },
     "execution_count": 6,
     "metadata": {},
     "output_type": "execute_result"
    }
   ],
   "source": [
    "# if rejected item, QtyApproved = 0:\n",
    "index_qty = (df_cleandata_labeled['Class']=='Rejected')&(df_cleandata_labeled['QtyApproved']>0)\n",
    "df_cleandata_labeled.loc[index_qty,'PriceValuated'].value_counts().sort_index()"
   ]
  },
  {
   "cell_type": "code",
   "execution_count": 7,
   "metadata": {},
   "outputs": [
    {
     "data": {
      "text/plain": [
       "0"
      ]
     },
     "execution_count": 7,
     "metadata": {},
     "output_type": "execute_result"
    }
   ],
   "source": [
    "# Check if negative quantities values:\n",
    "index = df_cleandata_labeled['QtyProvided']<0\n",
    "if index.sum()>0:\n",
    "    df_cleandata_labeled.loc[index,'QtyProvided']=df_cleandata_labeled.loc[index,'QtyProvided'].abs()\n",
    "\n",
    "# if rejected item, QtyApproved = 0:\n",
    "index_qty = df_cleandata_labeled['Class']=='Rejected'\n",
    "df_cleandata_labeled.loc[index_qty,'QtyApproved'] = 0\n",
    "\n",
    "# if accepted item and null value for QtyApprovec: QtyApproved = QtyProvided\n",
    "index_qty = (df_cleandata_labeled['Class']=='Accepted')&\\\n",
    "(df_cleandata_labeled['QtyApproved'].isnull())\n",
    "df_cleandata_labeled.loc[index_qty,'QtyApproved'] = df_cleandata_labeled.loc[index_qty,'QtyProvided']\n",
    "df_cleandata_labeled['QtyApproved'].isnull().sum()"
   ]
  },
  {
   "cell_type": "code",
   "execution_count": 8,
   "metadata": {},
   "outputs": [
    {
     "data": {
      "text/plain": [
       "<Figure size 864x576 with 0 Axes>"
      ]
     },
     "metadata": {},
     "output_type": "display_data"
    },
    {
     "data": {
      "image/png": "[encoded data removed]",
      "text/plain": [
       "<Figure size 432x288 with 1 Axes>"
      ]
     },
     "metadata": {
      "needs_background": "light"
     },
     "output_type": "display_data"
    }
   ],
   "source": [
    "# visualisation of results in terms of QtyProvided and QtyApproved\n",
    "figs = plt.figure(figsize=(12,8))\n",
    "df = df_cleandata_labeled[['QtyProvided','QtyApproved']]\n",
    "\n",
    "df.plot(kind='box')\n",
    "plt.ylabel(\"Quantity\")\n",
    "\n",
    "plt.show()"
   ]
  },
  {
   "cell_type": "markdown",
   "metadata": {},
   "source": [
    "## Step 1.2: Fill missing values in the PriceApproved column"
   ]
  },
  {
   "cell_type": "code",
   "execution_count": 9,
   "metadata": {},
   "outputs": [],
   "source": [
    "index_price = (df_cleandata_labeled['Class']=='Rejected')\n",
    "df_cleandata_labeled.loc[index_price,'PriceApproved'] = 0\n",
    "\n",
    "index_price = (df_cleandata_labeled['Class']=='Accepted')&(df_cleandata_labeled['PriceApproved'].isnull())\n",
    "\n",
    "df_cleandata_labeled.loc[index_price,'PriceApproved'] = df_cleandata_labeled.loc[index_price,'PriceAsked']"
   ]
  },
  {
   "cell_type": "code",
   "execution_count": 10,
   "metadata": {},
   "outputs": [
    {
     "data": {
      "text/plain": [
       "<Figure size 864x576 with 0 Axes>"
      ]
     },
     "metadata": {},
     "output_type": "display_data"
    },
    {
     "data": {
      "image/png": "[encoded data removed]",
      "text/plain": [
       "<Figure size 432x288 with 1 Axes>"
      ]
     },
     "metadata": {
      "needs_background": "light"
     },
     "output_type": "display_data"
    }
   ],
   "source": [
    "figs = plt.figure(figsize=(12,8))\n",
    "df = df_cleandata_labeled[['PriceAsked','PriceApproved','PriceValuated']]\n",
    "index = df_cleandata_labeled['Class'] == 'Rejected'\n",
    "\n",
    "df.plot(kind='box')\n",
    "plt.ylabel(\"Price\")\n",
    "\n",
    "plt.show()"
   ]
  },
  {
   "cell_type": "markdown",
   "metadata": {},
   "source": [
    "## Step 1.3: Filling missing values in ICDID1 field"
   ]
  },
  {
   "cell_type": "code",
   "execution_count": 11,
   "metadata": {},
   "outputs": [],
   "source": [
    "# if missing value in ICDID1, we will copy the values in ICDID:\n",
    "index = df_cleandata_labeled['ICDID1'].isnull()\n",
    "df_cleandata_labeled.loc[index,'ICDID1'] = df_cleandata_labeled.loc[index,'ICDID']"
   ]
  },
  {
   "cell_type": "markdown",
   "metadata": {},
   "source": [
    "## Step 1.4: Filling missing values in Relationship field"
   ]
  },
  {
   "cell_type": "code",
   "execution_count": 12,
   "metadata": {},
   "outputs": [
    {
     "name": "stdout",
     "output_type": "stream",
     "text": [
      " The 'Relationship' column contains 2419951 missing values, where:\n",
      "- 2372944 corresponds to the head of family;\n",
      "- 47007 corresponds to unknown values;\n",
      "\n"
     ]
    }
   ],
   "source": [
    "index1 = (df_cleandata_labeled['Relationship'].isnull())&\\\n",
    "(df_cleandata_labeled['IsHead'] == 1)\n",
    "\n",
    "index2 = (df_cleandata_labeled['Relationship'].isnull())&\\\n",
    "(df_cleandata_labeled['IsHead'] == 0)\n",
    "\n",
    "print(f''' The 'Relationship' column contains \\\n",
    "{df_cleandata_labeled['Relationship'].isnull().sum()} missing values, where:\n",
    "- {index1.sum()} corresponds to the head of family;\n",
    "- {index2.sum()} corresponds to unknown values;\n",
    "''')"
   ]
  },
  {
   "cell_type": "code",
   "execution_count": 13,
   "metadata": {},
   "outputs": [],
   "source": [
    "# Fill missing values in Relationship:\n",
    "# if FamilyHead, we will insert 9 for the missing values\n",
    "df_cleandata_labeled.loc[index1,'Relationship'] = 9 \n",
    "# else, fill 10 (equivalent to 'not known')\n",
    "df_cleandata_labeled.loc[index2,'Relationship'] = 10 "
   ]
  },
  {
   "cell_type": "code",
   "execution_count": 14,
   "metadata": {},
   "outputs": [
    {
     "data": {
      "image/png": "[encoded data removed]",
      "text/plain": [
       "<Figure size 1440x360 with 1 Axes>"
      ]
     },
     "metadata": {
      "needs_background": "light"
     },
     "output_type": "display_data"
    }
   ],
   "source": [
    "# Visualisation: illustrate the number of items per relationship value\n",
    "\n",
    "figs = plt.figure(figsize=(20,5))\n",
    "\n",
    "items_count  = df_cleandata_labeled['Relationship'].value_counts().sort_index()\n",
    "sns.barplot(items_count.index, items_count.values, alpha=0.8)\n",
    "plt.title(\"Relationship values in labeled dataset\")\n",
    "plt.xticks(range(10),['Brother/Sister', 'Father/Mother','Uncle/Aunt',\\\n",
    "                      'Son/Daughter','Grand parents','Employee',\\\n",
    "                     'Others','Spouse','Family Head','Not known'])\n",
    "plt.ylabel(\"# of items\")\n",
    "plt.gcf().autofmt_xdate()"
   ]
  },
  {
   "cell_type": "markdown",
   "metadata": {},
   "source": [
    "# Convert categorical variables to numeric\n",
    "\n",
    "In this case, categorical variables can be represented by datetime variables or character/text variables. As the Ai model can consider only numeric variables, these variables must be convertes.\n",
    "Several strategies can be applied:\n",
    "- for datetime variables: convertion to variables representing years or days;\n",
    "- for character/text variables, a dictionairy will be created associating distinct values in the dataset to numeric values; several methods are already implemented in python for this conversion step"
   ]
  },
  {
   "cell_type": "markdown",
   "metadata": {},
   "source": [
    "## Step 1: Convert DOB (Date of Birth) field"
   ]
  },
  {
   "cell_type": "code",
   "execution_count": 15,
   "metadata": {},
   "outputs": [],
   "source": [
    "# Calculating the Age of a patient\n",
    "df_cleandata_labeled.loc[:,'Age'] = (df_cleandata_labeled['DateFrom'] - df_cleandata_labeled['DOB']).dt.total_seconds() / (60*60*24*365.25)"
   ]
  },
  {
   "cell_type": "code",
   "execution_count": 16,
   "metadata": {},
   "outputs": [
    {
     "data": {
      "text/plain": [
       "<matplotlib.axes._subplots.AxesSubplot at 0x7fd8f88cb9e8>"
      ]
     },
     "execution_count": 16,
     "metadata": {},
     "output_type": "execute_result"
    },
    {
     "data": {
      "image/png": "[encoded data removed]",
      "text/plain": [
       "<Figure size 432x288 with 1 Axes>"
      ]
     },
     "metadata": {},
     "output_type": "display_data"
    }
   ],
   "source": [
    "sns.set_style(\"whitegrid\") \n",
    "\n",
    "sns.boxplot( y = 'Age', data = df_cleandata_labeled) \n"
   ]
  },
  {
   "cell_type": "code",
   "execution_count": 17,
   "metadata": {},
   "outputs": [],
   "source": [
    "# Drop DOB column as no longer necessary\n",
    "df_cleandata_labeled.drop(['DOB'], axis=1, inplace=True)   "
   ]
  },
  {
   "cell_type": "markdown",
   "metadata": {},
   "source": [
    "## Step 2: Convert datetime variables to numeric"
   ]
  },
  {
   "cell_type": "code",
   "execution_count": 18,
   "metadata": {},
   "outputs": [
    {
     "name": "stdout",
     "output_type": "stream",
     "text": [
      "Index(['DateFrom', 'DateTo', 'DateClaimed', 'PhotoDate'], dtype='object')\n"
     ]
    }
   ],
   "source": [
    "date_cols = df_cleandata_labeled.select_dtypes(include=['datetime64']).columns\n",
    "print(date_cols)"
   ]
  },
  {
   "cell_type": "code",
   "execution_count": 19,
   "metadata": {},
   "outputs": [],
   "source": [
    "# Convert to number of days the columns \n",
    "cols = ['DateFrom', 'DateTo', 'DateClaimed','PhotoDate']\n",
    "for i in date_cols:\n",
    "    df_cleandata_labeled[i]=(df_cleandata_labeled[i]-datetime.datetime(2016,1,1)).dt.days"
   ]
  },
  {
   "cell_type": "code",
   "execution_count": 20,
   "metadata": {},
   "outputs": [
    {
     "data": {
      "text/plain": [
       "<matplotlib.axes._subplots.AxesSubplot at 0x7fd8f84e1668>"
      ]
     },
     "execution_count": 20,
     "metadata": {},
     "output_type": "execute_result"
    },
    {
     "data": {
      "image/png": "[encoded data removed]",
      "text/plain": [
       "<Figure size 432x288 with 1 Axes>"
      ]
     },
     "metadata": {},
     "output_type": "display_data"
    }
   ],
   "source": [
    "sns.set_style(\"whitegrid\") \n",
    "sns.boxplot(x=\"variable\", y=\"value\", data=pd.melt(df_cleandata_labeled[['PhotoDate']]))"
   ]
  },
  {
   "cell_type": "code",
   "execution_count": 21,
   "metadata": {},
   "outputs": [
    {
     "data": {
      "text/plain": [
       "<matplotlib.axes._subplots.AxesSubplot at 0x7fd8f82d8e80>"
      ]
     },
     "execution_count": 21,
     "metadata": {},
     "output_type": "execute_result"
    },
    {
     "data": {
      "image/png": "[encoded data removed]",
      "text/plain": [
       "<Figure size 432x288 with 1 Axes>"
      ]
     },
     "metadata": {},
     "output_type": "display_data"
    }
   ],
   "source": [
    "sns.set_style(\"whitegrid\") \n",
    "sns.boxplot(x=\"variable\", y=\"value\",\\\n",
    "            data=pd.melt(df_cleandata_labeled[['DateFrom', 'DateTo', 'DateClaimed']]))"
   ]
  },
  {
   "cell_type": "markdown",
   "metadata": {},
   "source": [
    "## Step 3: Convert text variables to numeric"
   ]
  },
  {
   "cell_type": "code",
   "execution_count": 22,
   "metadata": {},
   "outputs": [
    {
     "name": "stdout",
     "output_type": "stream",
     "text": [
      "['ItemServiceType', 'ItemCode', 'ItemType', 'ItemCareType', 'ItemUUID', 'ItemLevel', 'ClaimCode', 'VisitType', 'ClaimUUID', 'ClaimAdminUUID', 'CHFID', 'Gender', 'TypeOfId', 'InsureeUUID', 'FamilyUUID', 'InsureeLocationType', 'LocationUUID', 'HFCode', 'HFLevel', 'HFCareType', 'HFUUID', 'LocationCode', 'HFLocationUUID', 'ICDCode', 'SanityCheck', 'Label', 'Class']\n"
     ]
    }
   ],
   "source": [
    "obj_df = df_cleandata_labeled.select_dtypes(include=['object']).copy()\n",
    "print(list(obj_df))"
   ]
  },
  {
   "cell_type": "code",
   "execution_count": 23,
   "metadata": {},
   "outputs": [
    {
     "data": {
      "text/plain": [
       "(6851424, 57)"
      ]
     },
     "execution_count": 23,
     "metadata": {},
     "output_type": "execute_result"
    }
   ],
   "source": [
    "df_cleandata_labeled.shape"
   ]
  },
  {
   "cell_type": "code",
   "execution_count": 24,
   "metadata": {},
   "outputs": [],
   "source": [
    "for i in obj_df:\n",
    "    le = LabelEncoder()\n",
    "    df_cleandata_labeled[i]= le.fit_transform(df_cleandata_labeled[i])"
   ]
  },
  {
   "cell_type": "markdown",
   "metadata": {},
   "source": [
    "# Data Normalization"
   ]
  },
  {
   "cell_type": "code",
   "execution_count": 25,
   "metadata": {},
   "outputs": [
    {
     "name": "stdout",
     "output_type": "stream",
     "text": [
      "['ClaimItemStatus', 'QtyProvided', 'QtyApproved', 'PriceAsked', 'PriceApproved', 'PriceValuated', 'RejectionReason', 'ItemServiceType', 'ItemCode', 'ItemType', 'ItemPrice', 'ItemCareType', 'ItemFrequency', 'ItemPatCat', 'ItemUUID', 'ItemLevel', 'ClaimCode', 'DateFrom', 'DateTo', 'ICDID', 'ClaimStatus', 'Claimed', 'Approved', 'DateClaimed', 'ReviewStatus', 'ICDID1', 'VisitType', 'ClaimUUID', 'ClaimAdminUUID', 'CHFID', 'Gender', 'IsHead', 'PhotoDate', 'Relationship', 'TypeOfId', 'InsureeUUID', 'Poverty', 'FamilyUUID', 'InsureeLocationType', 'LocationUUID', 'HFCode', 'HFLevel', 'HFCareType', 'HFUUID', 'LocationCode', 'HFLocationUUID', 'ICDCode', 'ValidItem', 'ValidClaimAdmin', 'ValidInsuree', 'ValidFamily', 'ValidLocation', 'ValidICD', 'SanityCheck', 'Label', 'Class', 'Age']\n"
     ]
    }
   ],
   "source": [
    "all_cols = df_cleandata_labeled.columns\n",
    "print(list(all_cols))"
   ]
  },
  {
   "cell_type": "code",
   "execution_count": 26,
   "metadata": {},
   "outputs": [
    {
     "data": {
      "text/plain": [
       "ClaimItemStatus  ReviewStatus  RejectionReason  ClaimStatus\n",
       "1.0              8.0            0.0             4.0             213227\n",
       "                                                16.0           6379122\n",
       "2.0              8.0           -1.0             1.0              59908\n",
       "                                                4.0               4799\n",
       "                                                16.0            194368\n",
       "dtype: int64"
      ]
     },
     "execution_count": 26,
     "metadata": {},
     "output_type": "execute_result"
    }
   ],
   "source": [
    "df_cleandata_labeled[['ClaimItemStatus','ReviewStatus','RejectionReason','ClaimStatus']].value_counts().sort_index()"
   ]
  },
  {
   "cell_type": "code",
   "execution_count": 27,
   "metadata": {},
   "outputs": [
    {
     "data": {
      "image/png": "[encoded data removed]",
      "text/plain": [
       "<Figure size 1440x360 with 1 Axes>"
      ]
     },
     "metadata": {},
     "output_type": "display_data"
    }
   ],
   "source": [
    "# Visualisation: illustrate the number of items per relationship value\n",
    "\n",
    "figs = plt.figure(figsize=(20,5))\n",
    "\n",
    "items_count  = df_cleandata_labeled[['ClaimItemStatus','ReviewStatus','RejectionReason','ClaimStatus']].value_counts().sort_index()\n",
    "sns.barplot(items_count.index, items_count.values, alpha=0.8)\n",
    "plt.xticks(range(5),['Accepted items, reviewed claim status', 'Accepted items, valuated claim status',\\\n",
    "                     'Rejected item, rejected claim','Rejected item, reviewed claim',\\\n",
    "                     'Rejected item, valuated claim',])\n",
    "plt.title(\"Available status\")\n",
    "plt.ylabel(\"# of items\")\n",
    "plt.gcf().autofmt_xdate()"
   ]
  },
  {
   "cell_type": "code",
   "execution_count": 28,
   "metadata": {},
   "outputs": [
    {
     "data": {
      "text/plain": [
       "ItemServiceType  ItemType\n",
       "0                0           4114413\n",
       "1                1           2737011\n",
       "dtype: int64"
      ]
     },
     "execution_count": 28,
     "metadata": {},
     "output_type": "execute_result"
    }
   ],
   "source": [
    "df_cleandata_labeled[['ItemServiceType', 'ItemType']].value_counts().sort_index()\n",
    "# ItemType and ItemServiceType have the same information, drop the ItemServiceType column"
   ]
  },
  {
   "cell_type": "code",
   "execution_count": 29,
   "metadata": {},
   "outputs": [],
   "source": [
    "# The 'Class' column sumarize all status columns ('ClaimItemStatus',\\\n",
    "#'ReviewStatus','RejectionReason','ClaimStatus'), meaning that we can drop these last columns\n",
    "cols_status = ['ClaimItemStatus','ReviewStatus','RejectionReason','ClaimStatus',\\\n",
    "              'SanityCheck', 'Label','ItemServiceType','PhotoDate',\\\n",
    "              'PriceValuated','Claimed', 'Approved']\n",
    "df_cleandata_labeled.drop(cols_status, axis=1, inplace=True)  "
   ]
  },
  {
   "cell_type": "code",
   "execution_count": 30,
   "metadata": {},
   "outputs": [],
   "source": [
    "all_cols = ['ClaimUUID', 'ClaimAdminUUID','ItemUUID', 'InsureeUUID','FamilyUUID',\\\n",
    "            'HFUUID', 'HFLocationUUID', 'LocationUUID',  'ICDID','ICDID1','CHFID',\\\n",
    "            'QtyProvided', 'QtyApproved', 'PriceAsked', 'PriceApproved','ItemPrice',\\\n",
    "            'DateFrom', 'DateTo',  'DateClaimed', 'Age',\\\n",
    "            'ValidItem', 'ValidClaimAdmin', 'ValidInsuree', 'ValidFamily', \\\n",
    "            'ValidLocation', 'ValidICD',\\\n",
    "            'ItemType', 'ItemCareType', 'ItemFrequency', 'ItemPatCat', 'ItemLevel', \\\n",
    "            'VisitType',   'Gender', 'IsHead', 'Relationship', 'TypeOfId',  'Poverty',\\\n",
    "            'InsureeLocationType', 'HFCode', 'HFLevel', 'HFCareType','Class']\n",
    "data = df_cleandata_labeled[all_cols].copy()"
   ]
  },
  {
   "cell_type": "code",
   "execution_count": 31,
   "metadata": {},
   "outputs": [
    {
     "data": {
      "text/plain": [
       "153823    468\n",
       "116793    463\n",
       "427973    414\n",
       "243978    401\n",
       "420228    386\n",
       "         ... \n",
       "176563      1\n",
       "265053      1\n",
       "329266      1\n",
       "420625      1\n",
       "0           1\n",
       "Name: CHFID, Length: 432400, dtype: int64"
      ]
     },
     "execution_count": 31,
     "metadata": {},
     "output_type": "execute_result"
    }
   ],
   "source": [
    "df_cleandata_labeled['CHFID'].value_counts()"
   ]
  },
  {
   "cell_type": "code",
   "execution_count": 32,
   "metadata": {},
   "outputs": [],
   "source": [
    "df_cleandata_labeled.to_pickle('openIMIS csv/AllData_AI_ALL.pkl') "
   ]
  },
  {
   "cell_type": "code",
   "execution_count": 33,
   "metadata": {},
   "outputs": [],
   "source": [
    "# Normalize the data\n",
    "# 1. First get all the columns names, it will be useful to manipulate afterwards the dataframe\n",
    "all_columns = list(data)[:]\n",
    "red_columns = list(data)[:-1] # column list without 'Class'\n",
    "\n",
    "# 2. Get the data for the selected columns\n",
    "data_copy = data[red_columns]\n",
    "data_copyAll = data[all_columns]\n",
    "\n",
    "# 3. Reshape the Class column\n",
    "OnlyClass = data['Class'].values.reshape(-1,1)\n",
    "\n",
    "# 4. Normalise the data (from all the columns except Class column)\n",
    "# 4.1 Standard Scaler\n",
    "data_scaled1 = StandardScaler().fit_transform(data_copy)\n",
    "data1 = np.concatenate((data_scaled1, OnlyClass), axis=1)\n",
    "data1 = pd.DataFrame(data1, columns = data_copyAll.columns)\n"
   ]
  },
  {
   "cell_type": "code",
   "execution_count": 34,
   "metadata": {},
   "outputs": [
    {
     "name": "stdout",
     "output_type": "stream",
     "text": [
      "(6851424, 42)\n",
      "(6592349, 42)\n",
      "(259075, 42)\n"
     ]
    }
   ],
   "source": [
    "# separate accepted and rejected data\n",
    "normal_data = data1.loc[data1['Class'] == 0]\n",
    "rejected_data  = data1.loc[data1['Class'] == 1]\n",
    "print(data1.shape)\n",
    "print(normal_data.shape)\n",
    "print(rejected_data.shape)"
   ]
  },
  {
   "cell_type": "code",
   "execution_count": 35,
   "metadata": {},
   "outputs": [
    {
     "name": "stdout",
     "output_type": "stream",
     "text": [
      "Calculated dimensions for the sets:\n",
      "train set: 3955407 observations\n",
      "dev set  : 1448006 observations\n",
      "test set : 1448006 observations\n",
      "X_train  (3955411, 41)\n",
      "X_dev  (1448007, 41)\n",
      "y_dev  (1448006,)\n",
      "X_test  (1448006, 41)\n",
      "y_test  (1448006,)\n"
     ]
    }
   ],
   "source": [
    "# Lets us create the TRAIN, TEST and VALIDATION sets\n",
    "# Rejected data is only in the TEST and VALIDATION sets, not in TRAIN\n",
    "normal_red_data = normal_data[red_columns]\n",
    "rejected_red_data = rejected_data[red_columns]\n",
    "\n",
    "#Let us split the dataset in 3 sets: training, development and test:\n",
    "# the train set contains 60% of the normal dataset (no fraud transaction)\n",
    "# the dev set contains 20% of the normal dataset and 50% of fraud set\n",
    "# the test set contains 20% of the normal dataset and 50% of fraud set\n",
    "\n",
    "num_test = int(normal_red_data.shape[0]*0.2)\n",
    "mf = int(rejected_data.shape[0]/2)\n",
    "print(f'''Calculated dimensions for the sets:\n",
    "train set: {num_test*3} observations\n",
    "dev set  : {num_test + mf} observations\n",
    "test set : {num_test + mf} observations''')\n",
    "\n",
    "#Shuffle the normal and fraud data: in order to avoid correlaion\n",
    "shuffled_data = normal_red_data.sample(frac=1, random_state=1960)[:].values\n",
    "shuffled_output = rejected_red_data.sample(frac=1, random_state=1960)[:].values\n",
    "\n",
    "# Training set: 60% of all normal transactions\n",
    "X_train = shuffled_data[:-2*num_test]\n",
    "\n",
    "# Development set: 20% of normal transactions + 50% of fraud transactions:\n",
    "X_dev = np.concatenate([shuffled_data[-2*num_test:-num_test], shuffled_output[:-mf]])\n",
    "y_dev = np.concatenate([np.zeros(num_test), np.ones(mf)])\n",
    "\n",
    "\n",
    "# Test set: 20% of normal transaction + 50% of fraud transactions:\n",
    "X_test = np.concatenate([shuffled_data[-num_test:], shuffled_output[:mf]])\n",
    "y_test = np.concatenate([np.zeros(num_test), np.ones(mf)])\n",
    "\n",
    "#print(\"normal_pca_data \", normal_pca_data.shape)\n",
    "#print(\"fraud_pca_data\", fraud_pca_data.shape)\n",
    "print(\"X_train \", X_train.shape)\n",
    "print(\"X_dev \", X_dev.shape)\n",
    "print(\"y_dev \", y_dev.shape)\n",
    "print(\"X_test \", X_test.shape)\n",
    "print(\"y_test \", y_test.shape)"
   ]
  }
 ],
 "metadata": {
  "kernelspec": {
   "display_name": "Python 3",
   "language": "python",
   "name": "python3"
  },
  "language_info": {
   "codemirror_mode": {
    "name": "ipython",
    "version": 3
   },
   "file_extension": ".py",
   "mimetype": "text/x-python",
   "name": "python",
   "nbconvert_exporter": "python",
   "pygments_lexer": "ipython3",
   "version": "3.7.3"
  }
 },
 "nbformat": 4,
 "nbformat_minor": 2
}
