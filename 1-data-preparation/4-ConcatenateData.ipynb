{
 "cells": [
  {
   "cell_type": "code",
   "execution_count": null,
   "metadata": {},
   "outputs": [],
   "source": [
    "# import necessaries modules:\n",
    "import numpy as np\n",
    "import datetime\n",
    "import pandas as pd\n",
    "import feather\n",
    "import gc"
   ]
  },
  {
   "cell_type": "markdown",
   "metadata": {},
   "source": [
    "## Step 1: Reading the data related to tblClaimItems"
   ]
  },
  {
   "cell_type": "code",
   "execution_count": null,
   "metadata": {},
   "outputs": [],
   "source": [
    "# pkl file related to tblClaimItems and all associated tables:\n",
    "df_claimitems = pd.read_pickle('openIMIS csv/ClaimItems_Items2020_sel.pkl')\n",
    "\n",
    "memStats_claimitems = (df_claimitems.memory_usage()/1024/1024).sum()\n",
    "shape_claimitems = df_claimitems.shape"
   ]
  },
  {
   "cell_type": "markdown",
   "metadata": {},
   "source": [
    "## Step 2: Reading data related to tblClaimServices"
   ]
  },
  {
   "cell_type": "code",
   "execution_count": null,
   "metadata": {},
   "outputs": [],
   "source": [
    "# pkl file related to tblClaimServices and all associated tables:\n",
    "df_claimservices = pd.read_pickle('openIMIS csv/ClaimServices_Services2020_sel.pkl')\n",
    "df_citems_sel.to_pickle('openIMIS csv/ClaimServices_Services2020_sel.pkl') \n",
    "\n",
    "memStats_claimservices = (df_claimservices.memory_usage()/1024/1024).sum()\n",
    "shape_claimservices = df_claimservices.shape"
   ]
  },
  {
   "cell_type": "markdown",
   "metadata": {},
   "source": [
    "## Step 3: Concatenate the previous dataframes"
   ]
  },
  {
   "cell_type": "code",
   "execution_count": null,
   "metadata": {},
   "outputs": [],
   "source": [
    "df_claim_final= df_claimitems.append(df_claimservices, ignore_index=True)\n",
    "\n",
    "memStats_final = (df_claim_final.memory_usage()/1024/1024).sum()\n",
    "shape_final = df_claim_final.shape"
   ]
  },
  {
   "cell_type": "code",
   "execution_count": null,
   "metadata": {},
   "outputs": [],
   "source": [
    "del [[df_claimitems,df_claimservices]]\n",
    "df_claimitems = pd.DataFrame()\n",
    "df_claimservices = pd.DataFrame()\n",
    "gc.collect()"
   ]
  },
  {
   "cell_type": "code",
   "execution_count": null,
   "metadata": {},
   "outputs": [],
   "source": [
    "df_claim_final.to_feather('openIMIS csv/AllData.ftr') \n",
    "#df_claim_final.to_pickle('openIMIS csv/AllData.pkl') "
   ]
  },
  {
   "cell_type": "markdown",
   "metadata": {},
   "source": [
    "## Summary:"
   ]
  },
  {
   "cell_type": "code",
   "execution_count": null,
   "metadata": {},
   "outputs": [],
   "source": [
    "print(f'''Summary of the concatenation process:\n",
    "- tblClaimItems has : {shape_claimitems[0]} rows; {shape_claimitems[1]} columns;\\\n",
    "{round(memStats_claimitems,2)} MB memory consumption;\n",
    "- tblClaimService has : {shape_claimservices[0]} rows; {shape_claimservices[1]} columns;\\\n",
    "{round(memStats_claimservices,2)} MB memory consumption;\n",
    "- Concatenation of tblClaimItems and tblClaimServices has : {shape_final[0]} rows;\\\n",
    "{shape_final[1]} columns; {round(memStats_final,2)} MB memory consumption;\n",
    "''')"
   ]
  }
 ],
 "metadata": {
  "kernelspec": {
   "display_name": "Python 3",
   "language": "python",
   "name": "python3"
  },
  "language_info": {
   "codemirror_mode": {
    "name": "ipython",
    "version": 3
   },
   "file_extension": ".py",
   "mimetype": "text/x-python",
   "name": "python",
   "nbconvert_exporter": "python",
   "pygments_lexer": "ipython3",
   "version": "3.7.3"
  }
 },
 "nbformat": 4,
 "nbformat_minor": 2
}
