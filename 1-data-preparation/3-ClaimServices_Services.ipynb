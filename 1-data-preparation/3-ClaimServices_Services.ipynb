{
 "cells": [
  {
   "cell_type": "code",
   "execution_count": 1,
   "metadata": {},
   "outputs": [],
   "source": [
    "# import necessaries modules:\n",
    "import numpy as np\n",
    "import datetime\n",
    "import pandas as pd\n",
    "import gc"
   ]
  },
  {
   "cell_type": "markdown",
   "metadata": {},
   "source": [
    "## Step 1: Reading data related to tblClaimService and tblService"
   ]
  },
  {
   "cell_type": "markdown",
   "metadata": {},
   "source": [
    "### Step 1.1: Reading the data related to tblClaimServices"
   ]
  },
  {
   "cell_type": "code",
   "execution_count": 2,
   "metadata": {},
   "outputs": [],
   "source": [
    "# csv file related to the tblClaimServices:\n",
    "filename = 'openIMIS csv/claim_services2020.csv'\n",
    "\n",
    "# selection of columns (the entire table has 30 columns)\n",
    "cols = ['ClaimServiceID', 'ClaimID', 'ServiceID','ProdID','PolicyID',\\\n",
    "        'ClaimServiceStatus','RejectionReason',\\\n",
    "        'QtyProvided','QtyApproved','PriceAsked','PriceApproved','PriceValuated',\\\n",
    "       'Explanation','Justification',\n",
    "       'ValidityFromReview','AuditUserIDReview']\n",
    "\n",
    "# read the csv file\n",
    "df_claim_services_raw = pd.read_csv(filename,low_memory=False,usecols=cols,\\\n",
    "                                 parse_dates = ['ValidityFromReview'])\n",
    "df_claim_services_raw = df_claim_services_raw.iloc[:-2,:]\n",
    "\n",
    "# add a column 'ItemServiceType' with all values equal to 'Activity definition'-\n",
    "# in order to make a difference between the medication and activity definitions \n",
    "# entities:\n",
    "df_claim_services_raw['ItemServiceType']='Activity definition'\n",
    "\n",
    "# rename the columns in order to have similar name as the items related dataset\n",
    "df_claim_services_raw.rename(columns = {'ClaimServiceID': 'ClaimItemID',\\\n",
    "                                        'ClaimServiceStatus': 'ClaimItemStatus',\\\n",
    "                                        'ServiceID': 'ItemID'}, inplace = True)\n",
    "\n",
    "memStats_claim_servs = (df_claim_services_raw.memory_usage()/1024/1024).sum()\n",
    "shape_claim_servs = df_claim_services_raw.shape"
   ]
  },
  {
   "cell_type": "markdown",
   "metadata": {},
   "source": [
    "### Step 1.2: Reading data related to tblServices"
   ]
  },
  {
   "cell_type": "code",
   "execution_count": 3,
   "metadata": {},
   "outputs": [],
   "source": [
    "# csv file related to the tblServices:\n",
    "filename = 'openIMIS csv/services2020.csv'\n",
    "\n",
    "# selection of columns\n",
    "cols = ['ServiceID', 'ServCode', 'ServName', 'ServType','ServLevel', \\\n",
    "         'ServPrice', 'ServCareType', 'ServFrequency', 'ServPatCat',\\\n",
    "         'ServiceUUID','ValidityFrom','ValidityTo']\n",
    "\n",
    "# read the csv file\n",
    "df_services_raw = pd.read_csv(filename,low_memory=False,usecols=cols,\n",
    "                             parse_dates = ['ValidityFrom','ValidityTo'])\n",
    "df_services_raw = df_services_raw.iloc[:-2,:]\n",
    "\n",
    "# rename the columns in order to have similar name as the items related dataset\n",
    "df_services_raw.rename(columns = {'ServiceID': 'ItemID',\n",
    "                               'ServCode': 'ItemCode',\n",
    "                               'ServName': 'ItemName',\n",
    "                               'ServType': 'ItemType',\n",
    "                               'ServLevel': 'ItemLevel',\n",
    "                               'ServPrice': 'ItemPrice',\n",
    "                               'ServCareType':'ItemCareType',\n",
    "                               'ServFrequency': 'ItemFrequency',\n",
    "                               'ServPatCat': 'ItemPatCat',\n",
    "                               'ServiceUUID': 'ItemUUID',\n",
    "                               'ValidityFrom': 'ItemValidityFrom',\n",
    "                               'ValidityTo': 'ItemValidityTo'}, inplace = True)\n",
    "df_services_raw['ItemID'] = df_services_raw['ItemID'].astype(float)\n",
    "\n",
    "memStats_services = (df_services_raw.memory_usage()/1024/1024).sum()\n",
    "shape_services = df_services_raw.shape\n"
   ]
  },
  {
   "cell_type": "markdown",
   "metadata": {},
   "source": [
    "### Step 1.3: Concatention of the tblClaimServices with tblServices (based on ItemID column)"
   ]
  },
  {
   "cell_type": "code",
   "execution_count": 4,
   "metadata": {},
   "outputs": [],
   "source": [
    "df_claim_services_raw = pd.merge(df_claim_services_raw,df_services_raw,on='ItemID')\n",
    "\n",
    "memStats_claim_servs_c = (df_claim_services_raw.memory_usage()/1024/1024).sum()\n",
    "shape_claim_servs_c = df_claim_services_raw.shape"
   ]
  },
  {
   "cell_type": "code",
   "execution_count": 5,
   "metadata": {},
   "outputs": [
    {
     "data": {
      "text/plain": [
       "40"
      ]
     },
     "execution_count": 5,
     "metadata": {},
     "output_type": "execute_result"
    }
   ],
   "source": [
    "# deleting dataframes no longer necessary\n",
    "del [df_services_raw]\n",
    "df_services_raw=pd.DataFrame()\n",
    "gc.collect()"
   ]
  },
  {
   "cell_type": "markdown",
   "metadata": {},
   "source": [
    "## Step 2: Reading the claim related file\n",
    "- this is an already concatenated file with all the fields related to other tables (tblClaimAdmins, tblHF, tblLocations, tblInsuree, tblFamilies, tblDiagnosis)"
   ]
  },
  {
   "cell_type": "code",
   "execution_count": 6,
   "metadata": {},
   "outputs": [],
   "source": [
    "# open the concatenated file related to claims\n",
    "df_claims_raw=pd.read_pickle('openIMIS csv/ClaimsPlus2020_sel.pkl') \n",
    "\n",
    "memStats_claims = (df_claims_raw.memory_usage()/1024/1024).sum()\n",
    "shape_claims = df_claims_raw.shape"
   ]
  },
  {
   "cell_type": "markdown",
   "metadata": {},
   "source": [
    "## Step 3: Merge all dataframes:"
   ]
  },
  {
   "cell_type": "code",
   "execution_count": 7,
   "metadata": {},
   "outputs": [],
   "source": [
    "# merge all the previous tables\n",
    "df_citems_sel = pd.merge(df_claim_services_raw,df_claims_raw,on='ClaimID')"
   ]
  },
  {
   "cell_type": "code",
   "execution_count": 8,
   "metadata": {},
   "outputs": [],
   "source": [
    "# Verify if item valid\n",
    "cond1 = (df_citems_sel['DateFrom']>df_citems_sel['ItemValidityFrom'])&\\\n",
    "(df_citems_sel['ItemValidityTo'].isnull())\n",
    "cond2 = (df_citems_sel['DateFrom']>df_citems_sel['ItemValidityFrom'])&\\\n",
    "(df_citems_sel['ItemValidityTo'].notnull())&\\\n",
    "(df_citems_sel['DateTo']>df_citems_sel['ItemValidityTo'])\n",
    "\n",
    "# create a list of Valid/Not Valid items \n",
    "validcond = cond1|cond2\n",
    "\n",
    "# create a new column \n",
    "df_citems_sel.loc[validcond,('ValidItem')] = 1\n",
    "df_citems_sel.loc[~validcond,('ValidItem')] = 0"
   ]
  },
  {
   "cell_type": "code",
   "execution_count": 9,
   "metadata": {},
   "outputs": [],
   "source": [
    "# Verify if ClaimAdmin valid\n",
    "cond1 = (df_citems_sel['DateFrom']>df_citems_sel['ClaimAdminValidityFrom'])&\\\n",
    "(df_citems_sel['ClaimAdminValidityTo'].isnull())\n",
    "cond2 = (df_citems_sel['DateFrom']>df_citems_sel['ClaimAdminValidityFrom'])&\\\n",
    "(df_citems_sel['ClaimAdminValidityTo'].notnull())&\\\n",
    "(df_citems_sel['DateTo']>df_citems_sel['ClaimAdminValidityTo'])\n",
    "\n",
    "# create a list of Valid/Not Valid items \n",
    "validcond = cond1|cond2\n",
    "\n",
    "# create a new column \n",
    "df_citems_sel.loc[validcond,('ValidClaimAdmin')] = 1\n",
    "df_citems_sel.loc[~validcond,('ValidClaimAdmin')] = 0"
   ]
  },
  {
   "cell_type": "code",
   "execution_count": 10,
   "metadata": {},
   "outputs": [],
   "source": [
    "# Verify if Insuree valid\n",
    "cond1 = (df_citems_sel['DateFrom']>df_citems_sel['InsureeValidityFrom'])&\\\n",
    "(df_citems_sel['InsureeValidityTo'].isnull())\n",
    "cond2 = (df_citems_sel['DateFrom']>df_citems_sel['ClaimAdminValidityFrom'])&\\\n",
    "(df_citems_sel['InsureeValidityTo'].notnull())&\\\n",
    "(df_citems_sel['DateTo']>df_citems_sel['InsureeValidityTo'])\n",
    "\n",
    "# create a list of Valid/Not Valid items \n",
    "validcond = cond1|cond2\n",
    "\n",
    "# create a new column \n",
    "df_citems_sel.loc[validcond,('ValidInsuree')] = 1\n",
    "df_citems_sel.loc[~validcond,('ValidInsuree')] = 0"
   ]
  },
  {
   "cell_type": "code",
   "execution_count": 11,
   "metadata": {},
   "outputs": [],
   "source": [
    "# Verify if Family valid\n",
    "cond1 = (df_citems_sel['DateFrom']>df_citems_sel['FamilyValidityFrom'])&\\\n",
    "(df_citems_sel['FamilyValidityTo'].isnull())\n",
    "cond2 = (df_citems_sel['DateFrom']>df_citems_sel['FamilyValidityFrom'])&\\\n",
    "(df_citems_sel['FamilyValidityTo'].notnull())&\\\n",
    "(df_citems_sel['DateTo']>df_citems_sel['FamilyValidityTo'])\n",
    "\n",
    "# create a list of Valid/Not Valid items \n",
    "validitem = cond1|cond2\n",
    "\n",
    "# create a new column \n",
    "df_citems_sel.loc[validitem,('ValidFamily')] = 1\n",
    "df_citems_sel.loc[~validitem,('ValidFamily')] = 0"
   ]
  },
  {
   "cell_type": "code",
   "execution_count": 12,
   "metadata": {},
   "outputs": [],
   "source": [
    "# Verify if Location valid\n",
    "cond1 = (df_citems_sel['DateFrom']>df_citems_sel['LocationValidityFrom'])&\\\n",
    "(df_citems_sel['LocationValidityTo'].isnull())\n",
    "cond2 = (df_citems_sel['DateFrom']>df_citems_sel['LocationValidityFrom'])&\\\n",
    "(df_citems_sel['LocationValidityTo'].notnull())&\\\n",
    "(df_citems_sel['DateTo']>df_citems_sel['LocationValidityTo'])\n",
    "\n",
    "# create a list of Valid/Not Valid items \n",
    "validitem = cond1|cond2\n",
    "\n",
    "# create a new column \n",
    "df_citems_sel.loc[validitem,('ValidLocation')] = 1\n",
    "df_citems_sel.loc[~validitem,('ValidLocation')] = 0"
   ]
  },
  {
   "cell_type": "code",
   "execution_count": 13,
   "metadata": {},
   "outputs": [],
   "source": [
    "# Verify if ICD valid\n",
    "cond1 = (df_citems_sel['DateFrom']>df_citems_sel['ICDValidityFrom'])&\\\n",
    "(df_citems_sel['ICDValidityTo'].isnull())\n",
    "cond2 = (df_citems_sel['DateFrom']>df_citems_sel['ICDValidityFrom'])&\\\n",
    "(df_citems_sel['ICDValidityTo'].notnull())&\\\n",
    "(df_citems_sel['DateTo']>df_citems_sel['ICDValidityTo'])\n",
    "\n",
    "# create a list of Valid/Not Valid items \n",
    "validitem = cond1|cond2\n",
    "\n",
    "# create a new column \n",
    "df_citems_sel.loc[validitem,('ValidICD')] = 1\n",
    "df_citems_sel.loc[~validitem,('ValidICD')] = 0"
   ]
  },
  {
   "cell_type": "code",
   "execution_count": 14,
   "metadata": {},
   "outputs": [],
   "source": [
    "df_citems_sel.drop(['ClaimAdminValidityFrom','ClaimAdminValidityTo',\\\n",
    "                   'InsureeValidityFrom','InsureeValidityTo',\\\n",
    "                   'FamilyValidityFrom','FamilyValidityTo',\\\n",
    "                   'LocationValidityFrom','LocationValidityTo',\\\n",
    "                   'ICDValidityFrom','ICDValidityTo'], axis=1, inplace=True)"
   ]
  },
  {
   "cell_type": "code",
   "execution_count": 17,
   "metadata": {},
   "outputs": [],
   "source": [
    "df_citems_sel.drop(['ItemValidityFrom','ItemValidityTo'], axis=1, inplace=True)"
   ]
  },
  {
   "cell_type": "code",
   "execution_count": 18,
   "metadata": {},
   "outputs": [],
   "source": [
    "memStats = (df_citems_sel.memory_usage()/1024/1024).sum()\n",
    "shape_ciems_sel = df_citems_sel.shape"
   ]
  },
  {
   "cell_type": "code",
   "execution_count": 19,
   "metadata": {},
   "outputs": [],
   "source": [
    "# save the results:\n",
    "df_citems_sel.to_pickle('openIMIS csv/ClaimServices_Services2020_sel.pkl') \n",
    "#df_claim_services_raw.to_csv('openIMIS csv/ClaimServices_Services2020_sel.csv') "
   ]
  },
  {
   "cell_type": "markdown",
   "metadata": {},
   "source": [
    "## Summary"
   ]
  },
  {
   "cell_type": "code",
   "execution_count": 20,
   "metadata": {},
   "outputs": [
    {
     "name": "stdout",
     "output_type": "stream",
     "text": [
      "Summary of the concatenation process:\n",
      "- tblClaimServices has : 16655364 rows; 17 columns; 2160.2 MB memory consumption;\n",
      "- tblServices has : 1868 rows; 12 columns; 0.17 MB memory consumption;\n",
      "- Concatenation of tblClaimServices and tblServices has : 16655364 rows;28 columns; 3685.04 MB memory consumption;\n",
      "- tblClaims has : 5953640 rows; 61 columns; 2816.21 MB memory consumption;\n",
      "- Concatenation of previous tables has : 16600273 rows;82 columns; 10511.95 MB memory consumption;\n",
      "\n"
     ]
    }
   ],
   "source": [
    "# Summary concerning the concatenation\n",
    "print(f'''Summary of the concatenation process:\n",
    "- tblClaimServices has : {shape_claim_servs[0]} rows; {shape_claim_servs[1]} columns; {round(memStats_claim_servs,2)} MB memory consumption;\n",
    "- tblServices has : {shape_services[0]} rows; {shape_services[1]} columns; {round(memStats_services,2)} MB memory consumption;\n",
    "- Concatenation of tblClaimServices and tblServices has : {shape_claim_servs_c[0]} rows;\\\n",
    "{shape_claim_servs_c[1]} columns; {round(memStats_claim_servs_c,2)} MB memory consumption;\n",
    "- tblClaims has : {shape_claims[0]} rows; {shape_claims[1]} columns; {round(memStats_claims,2)} MB memory consumption;\n",
    "- Concatenation of previous tables has : {shape_ciems_sel[0]} rows;\\\n",
    "{shape_ciems_sel[1]} columns; {round(memStats,2)} MB memory consumption;\n",
    "''')"
   ]
  }
 ],
 "metadata": {
  "kernelspec": {
   "display_name": "Python 3",
   "language": "python",
   "name": "python3"
  },
  "language_info": {
   "codemirror_mode": {
    "name": "ipython",
    "version": 3
   },
   "file_extension": ".py",
   "mimetype": "text/x-python",
   "name": "python",
   "nbconvert_exporter": "python",
   "pygments_lexer": "ipython3",
   "version": "3.7.3"
  }
 },
 "nbformat": 4,
 "nbformat_minor": 2
}
