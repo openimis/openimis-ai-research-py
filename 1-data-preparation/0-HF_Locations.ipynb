{
 "cells": [
  {
   "cell_type": "code",
   "execution_count": 1,
   "metadata": {},
   "outputs": [],
   "source": [
    "# import necessaries modules:\n",
    "import numpy as np\n",
    "import datetime\n",
    "import pandas as pd\n",
    "import gc"
   ]
  },
  {
   "cell_type": "markdown",
   "metadata": {},
   "source": [
    "## Step 1: Reading data related to tblHFs and tblLocation"
   ]
  },
  {
   "cell_type": "markdown",
   "metadata": {},
   "source": [
    "### Step 1.1 : Reading data related to tblHFs"
   ]
  },
  {
   "cell_type": "code",
   "execution_count": 2,
   "metadata": {},
   "outputs": [],
   "source": [
    "# read the csv file and selecting the necessary columns\n",
    "filename = 'openIMIS csv/health_facilities2020.csv'\n",
    "cols = ['HfID','HFCode','HFLevel','HFSublevel','LocationId','HFCareType','HfUUID']\n",
    "df_HF_raw = pd.read_csv(filename,low_memory=False,usecols=cols)\n",
    "df_HF_raw = df_HF_raw.iloc[:-2,:]\n",
    "\n",
    "#rename columns\n",
    "df_HF_raw.rename(columns = {'HfID': 'HFID','HfUUID': 'HFUUID'}, inplace = True)\n",
    "\n",
    "memStats_HF = (df_HF_raw.memory_usage()/1024/1024).sum()\n",
    "shape_HF = df_HF_raw.shape"
   ]
  },
  {
   "cell_type": "markdown",
   "metadata": {},
   "source": [
    "### Step 1.2 : Reading data related to tblLocations"
   ]
  },
  {
   "cell_type": "code",
   "execution_count": 3,
   "metadata": {},
   "outputs": [],
   "source": [
    "filename = 'openIMIS csv/locations2020.csv'\n",
    "cols = ['LocationId', 'LocationCode','LocationName','LocationUUID']\n",
    "df_location_raw = pd.read_csv(filename,low_memory=False,usecols=cols)\n",
    "df_location_raw = df_location_raw.iloc[:-2,:]\n",
    "\n",
    "df_location_raw['LocationId'] = df_location_raw['LocationId'].astype(int)\n",
    "\n",
    "memStats_Locs = (df_location_raw.memory_usage()/1024/1024).sum()\n",
    "shape_Locs = df_location_raw.shape"
   ]
  },
  {
   "cell_type": "markdown",
   "metadata": {},
   "source": [
    "## Step 2 : Concatenate the dataframes related to tblHFs and tblLocations"
   ]
  },
  {
   "cell_type": "code",
   "execution_count": 4,
   "metadata": {},
   "outputs": [],
   "source": [
    "df_HF_locations = pd.merge(df_HF_raw,df_location_raw,on='LocationId')\n",
    "\n",
    "df_HF_locations.rename(columns = {'LocationId': 'HFLocationId',\n",
    "                                  'LocationName':'HFLocationName',\n",
    "                                  'LocationType': 'HFLocationType',\n",
    "                                  'LocationUUID': 'HFLocationUUID',\n",
    "                                  'HfID': 'HFID'\n",
    "                                 }, inplace = True)\n",
    "\n",
    "memStats_concat = (df_HF_locations.memory_usage()/1024/1024).sum()\n",
    "shape_concat = df_HF_locations.shape"
   ]
  },
  {
   "cell_type": "code",
   "execution_count": 5,
   "metadata": {},
   "outputs": [],
   "source": [
    "# save data to files\n",
    "df_HF_locations.to_pickle('openIMIS csv/HF_Locations2020_sel.pkl')\n",
    "#df_HF_locations.to_csv('openIMIS csv/HF_Locations2020_sel.csv') \n",
    "\n",
    "df_HF_sel = df_HF_raw[['HFID','HFUUID']]\n",
    "df_HF_sel.to_pickle('openIMIS csv/HF2020_sel.pkl') "
   ]
  },
  {
   "cell_type": "markdown",
   "metadata": {},
   "source": [
    "## Summary:"
   ]
  },
  {
   "cell_type": "code",
   "execution_count": 6,
   "metadata": {},
   "outputs": [
    {
     "name": "stdout",
     "output_type": "stream",
     "text": [
      "\n",
      "- tblHFs has : 780 rows; 7 columns; 0.04 MB memory consumption;\n",
      "- tblLocations has : 10350 rows; 4 columns; 0.32 MB memory consumption;\n",
      "- Concatenation of tblHFs and tblLocations has : 780 rows; 10 columns; 0.07 MB memory consumption;\n",
      "\n"
     ]
    }
   ],
   "source": [
    "print(f'''\n",
    "- tblHFs has : {shape_HF[0]} rows; {shape_HF[1]} columns; \\\n",
    "{round(memStats_HF,2)} MB memory consumption;\n",
    "- tblLocations has : {shape_Locs[0]} rows; {shape_Locs[1]} columns; \\\n",
    "{round(memStats_Locs,2)} MB memory consumption;\n",
    "- Concatenation of tblHFs and tblLocations has : {shape_concat[0]} rows; {shape_concat[1]} columns; \\\n",
    "{round(memStats_concat,2)} MB memory consumption;\n",
    "''')"
   ]
  }
 ],
 "metadata": {
  "kernelspec": {
   "display_name": "Python 3",
   "language": "python",
   "name": "python3"
  },
  "language_info": {
   "codemirror_mode": {
    "name": "ipython",
    "version": 3
   },
   "file_extension": ".py",
   "mimetype": "text/x-python",
   "name": "python",
   "nbconvert_exporter": "python",
   "pygments_lexer": "ipython3",
   "version": "3.7.3"
  }
 },
 "nbformat": 4,
 "nbformat_minor": 2
}
