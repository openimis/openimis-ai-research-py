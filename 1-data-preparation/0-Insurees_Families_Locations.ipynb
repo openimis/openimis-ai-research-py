{
 "cells": [
  {
   "cell_type": "code",
   "execution_count": 1,
   "metadata": {},
   "outputs": [],
   "source": [
    "# import necessaries modules:\n",
    "import numpy as np\n",
    "import datetime\n",
    "import pandas as pd\n",
    "import gc"
   ]
  },
  {
   "cell_type": "markdown",
   "metadata": {},
   "source": [
    "## Step 1 : Reading tblInsurees and tblFamilies and concatenate them"
   ]
  },
  {
   "cell_type": "markdown",
   "metadata": {},
   "source": [
    "### Step 1.1   : Reading tblInsurees\n",
    "Reading the file, selecting the necessary fields and concatenate it to the previous table"
   ]
  },
  {
   "cell_type": "code",
   "execution_count": 2,
   "metadata": {},
   "outputs": [],
   "source": [
    "# read the csv file and selecting the necessary columns\n",
    "filename = 'openIMIS csv/insurees2020.csv'\n",
    "cols = ['InsureeID','InsureeUUID','FamilyID','CHFID','HFID',\\\n",
    "        'Relationship','IsHead','Marital',\n",
    "       'DOB','PhotoDate','ValidityFrom','ValidityTo',\\\n",
    "       'TypeOfId','Gender']\n",
    "df_insuree_raw = pd.read_csv(filename,low_memory=False,usecols=cols,\\\n",
    "                             parse_dates = ['PhotoDate','DOB','ValidityFrom','ValidityTo'])\n",
    "df_insuree_raw = df_insuree_raw.iloc[:-2,:]\n",
    "\n",
    "# rename columns name as there will be several columns ValidityFrom and VaidityTo\n",
    "df_insuree_raw.rename(columns = {'ValidityFrom': 'InsureeValidityFrom',\\\n",
    "                                    'ValidityTo': 'InsureeValidityTo'}, inplace = True)\n",
    "\n",
    "memStats_insurees = (df_insuree_raw.memory_usage()/1024/1024).sum()\n",
    "shape_insurees = df_insuree_raw.shape"
   ]
  },
  {
   "cell_type": "markdown",
   "metadata": {},
   "source": [
    "### Step 1.2: Reading tblFamilies"
   ]
  },
  {
   "cell_type": "code",
   "execution_count": 3,
   "metadata": {},
   "outputs": [],
   "source": [
    "# read the csv file and selecting the necessary columns\n",
    "filename = 'openIMIS csv/families2020.csv'\n",
    "cols = ['FamilyID', 'InsureeID', 'LocationId','FamilyUUID',\\\n",
    "        'Poverty','ValidityFrom','ValidityTo']\n",
    "df_families_raw = pd.read_csv(filename,low_memory=False,usecols=cols,\\\n",
    "                             parse_dates = ['ValidityFrom','ValidityTo'])\n",
    "\n",
    "df_families_raw = df_families_raw.iloc[:-2,:]\n",
    "\n",
    "df_families_raw['FamilyID'] = df_families_raw['FamilyID'].astype(float)\n",
    "\n",
    "# rename columns name as there will be several columns ValidityFrom and VaidityTo\n",
    "df_families_raw.rename(columns = {'ValidityFrom': 'FamilyValidityFrom',\\\n",
    "                                 'ValidityTo': 'FamilyValidityTo'}, inplace = True)\n",
    "\n",
    "memStats_families = (df_families_raw.memory_usage()/1024/1024).sum()\n",
    "shape_families = df_families_raw.shape"
   ]
  },
  {
   "cell_type": "markdown",
   "metadata": {},
   "source": [
    "### Step 1.3 Concatenation of tblInsurees and tblFamilies"
   ]
  },
  {
   "cell_type": "code",
   "execution_count": 4,
   "metadata": {},
   "outputs": [],
   "source": [
    "df_insuree_fmlies = pd.merge(df_insuree_raw,df_families_raw,on=['FamilyID'])\n",
    "\n",
    "memStats_concat1 = (df_insuree_fmlies.memory_usage()/1024/1024).sum()\n",
    "shape_concat1 = df_insuree_fmlies.shape"
   ]
  },
  {
   "cell_type": "markdown",
   "metadata": {},
   "source": [
    "## Step 2. Read the tblLocations and concatenate to the previous dataframe"
   ]
  },
  {
   "cell_type": "markdown",
   "metadata": {},
   "source": [
    "### Step 2.1 Reading the tblLocations"
   ]
  },
  {
   "cell_type": "code",
   "execution_count": 5,
   "metadata": {},
   "outputs": [],
   "source": [
    "# read the csv file and selecting the necessary columns\n",
    "filename = 'openIMIS csv/locations2020.csv'\n",
    "cols = ['LocationId','LocationName','LocationType','LocationUUID','ValidityFrom','ValidityTo']\n",
    "df_location_raw = pd.read_csv(filename,low_memory=False,usecols=cols,\\\n",
    "                             parse_dates = ['ValidityFrom','ValidityTo'])\n",
    "df_location_raw = df_location_raw.iloc[:-2,:]\n",
    "\n",
    "df_location_raw['LocationId'] = df_location_raw['LocationId'].astype(int)\n",
    "\n",
    "# rename columns name as there will be several columns ValidityFrom and VaidityTo\n",
    "df_location_raw.rename(columns = {'ValidityFrom': 'LocationValidityFrom',\\\n",
    "                                 'ValidityTo': 'LocationValidityTo'}, inplace = True)\n",
    "\n",
    "memStats_locs = (df_location_raw.memory_usage()/1024/1024).sum()\n",
    "shape_locs = df_location_raw.shape"
   ]
  },
  {
   "cell_type": "markdown",
   "metadata": {},
   "source": [
    "### Step 2.2: Concatenate the tblLocation to the previous dataframe"
   ]
  },
  {
   "cell_type": "code",
   "execution_count": 6,
   "metadata": {},
   "outputs": [],
   "source": [
    "df_insuree_fmlies_locs = pd.merge(df_insuree_fmlies,df_location_raw,on='LocationId')\n",
    "\n",
    "# rename columns in the dataframe\n",
    "df_insuree_fmlies_locs.rename(columns = {'LocationID': 'InsureeLocationID',\n",
    "                                  'LocationName': 'InsureeLocationName',\n",
    "                                  'LocationType': 'InsureeLocationType',\n",
    "                                  'HFID': 'InsureeHFID',\n",
    "                                  'HFUUID': 'InsureeHFUUID',\n",
    "                                  'InsureeID_x': 'InsureeID',\n",
    "                                  'InsureeID_y': 'FamHeadInsuree'\n",
    "                                 }, inplace = True)\n",
    "\n",
    "memStats_concat2 = (df_insuree_fmlies_locs.memory_usage()/1024/1024).sum()\n",
    "shape_concat2 = df_insuree_fmlies_locs.shape"
   ]
  },
  {
   "cell_type": "code",
   "execution_count": 7,
   "metadata": {},
   "outputs": [],
   "source": [
    "#Save data in a pkl file: (or csv)\n",
    "df_insuree_fmlies_locs.to_pickle('openIMIS csv/Insurees_Fmlies_Loc2020_sel.pkl')\n",
    "#df_insuree_fmlies_locs.to_csv('openIMIS csv/Insurees_Fmlies_Loc2020_sel.csv') "
   ]
  },
  {
   "cell_type": "markdown",
   "metadata": {},
   "source": [
    "### Summary"
   ]
  },
  {
   "cell_type": "code",
   "execution_count": 8,
   "metadata": {},
   "outputs": [
    {
     "name": "stdout",
     "output_type": "stream",
     "text": [
      "Summary of the concatenation process:\n",
      "- tblInsurees has : 3790789 rows; 14 columns; 404.9 MB memory consumption;\n",
      "- tblFamilies has : 977860 rows; 7 columns; 52.22 MB memory consumption;\n",
      "- Concatenation of tblInsurees and tblFamilies has : 3790789 rows; 20 columns ; 607.35 MB memory consumption;\n",
      "- tblLocations has : 10350 rows; 6 columns ; 0.47 MB memory consumption;\n",
      "- Concatenation of tblInsurees,tblFamilies and tblLocations has : 3790789 rows; 25 columns; 751.96 MB memory consumption;\n",
      "\n"
     ]
    }
   ],
   "source": [
    "print(f'''Summary of the concatenation process:\n",
    "- tblInsurees has : {shape_insurees[0]} rows; {shape_insurees[1]} columns; \\\n",
    "{round(memStats_insurees,2)} MB memory consumption;\n",
    "- tblFamilies has : {shape_families[0]} rows; {shape_families[1]} columns; \\\n",
    "{round(memStats_families,2)} MB memory consumption;\n",
    "- Concatenation of tblInsurees and tblFamilies has : {shape_concat1[0]} rows; \\\n",
    "{shape_concat1[1]} columns ; {round(memStats_concat1,2)} MB memory consumption;\n",
    "- tblLocations has : {shape_locs[0]} rows; \\\n",
    "{shape_locs[1]} columns ; {round(memStats_locs,2)} MB memory consumption;\n",
    "- Concatenation of tblInsurees,tblFamilies and tblLocations has : {shape_concat2[0]} rows; \\\n",
    "{shape_concat2[1]} columns; {round(memStats_concat2,2)} MB memory consumption;\n",
    "''')"
   ]
  }
 ],
 "metadata": {
  "kernelspec": {
   "display_name": "Python 3",
   "language": "python",
   "name": "python3"
  },
  "language_info": {
   "codemirror_mode": {
    "name": "ipython",
    "version": 3
   },
   "file_extension": ".py",
   "mimetype": "text/x-python",
   "name": "python",
   "nbconvert_exporter": "python",
   "pygments_lexer": "ipython3",
   "version": "3.7.3"
  }
 },
 "nbformat": 4,
 "nbformat_minor": 2
}
